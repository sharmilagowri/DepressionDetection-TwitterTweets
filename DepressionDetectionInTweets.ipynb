{
 "cells": [
  {
   "cell_type": "markdown",
   "metadata": {
    "id": "eOdcV7jJ4eF4"
   },
   "source": [
    "# BAN-693 : CAPSTONE PROJECT\n",
    "### Professor : Dr. Chongqi Wu\n",
    "### Group Members:\n",
    "##### Sharmila Gowri Velugula - ku3936\n",
    "##### Shruti Ravindra Joshi - jd4923\n",
    "##### Suchitra Venkatesan - qw9486\n",
    "##### Vani Narahari Joshi - eu2388\n"
   ]
  },
  {
   "cell_type": "markdown",
   "metadata": {
    "id": "vxSS_X7T4eGE"
   },
   "source": [
    "# DEPRESSIVE TWEETS ANALYSIS"
   ]
  },
  {
   "cell_type": "markdown",
   "metadata": {
    "id": "3-gQncsj4eGG"
   },
   "source": [
    "Mental illness such as depression can be life threatening, with suicide as a possible outcome. In this project, a LSTM with CNN and LSTM with GloVe is built using Keras to determine whether twitter users are depressive based on their Twitter posts. The accuracy of the model is evaluated and compared to a Logistic Regression baseline model, TFIDF & Bag-Of-Words models."
   ]
  },
  {
   "cell_type": "markdown",
   "metadata": {
    "id": "CeUPTVAs4eGK"
   },
   "source": [
    "### Imports"
   ]
  },
  {
   "cell_type": "code",
   "execution_count": null,
   "metadata": {
    "id": "4ZR6nrQr4eGL"
   },
   "outputs": [],
   "source": [
    "import warnings\n",
    "warnings.filterwarnings(\"ignore\")\n",
    "import ftfy\n",
    "import matplotlib.pyplot as plt\n",
    "import nltk\n",
    "import numpy as np\n",
    "import pandas as pd\n",
    "import re\n",
    "\n",
    "from math import exp\n",
    "from numpy import sign\n",
    "\n",
    "from gensim.models import KeyedVectors\n",
    "from nltk.corpus import stopwords\n",
    "from nltk import PorterStemmer\n",
    "from nltk.stem import WordNetLemmatizer\n",
    "\n",
    "from keras.models import Model, Sequential\n",
    "from keras.callbacks import EarlyStopping, ModelCheckpoint\n",
    "from keras.layers import Conv1D, Dense, Input, LSTM, Embedding, Dropout, Activation, MaxPooling1D, Bidirectional\n",
    "from keras.preprocessing.text import Tokenizer\n",
    "from keras.preprocessing.sequence import pad_sequences\n",
    "\n",
    "from wordcloud import WordCloud \n",
    "import wordcloud\n",
    "\n",
    "#python basics\n",
    "from matplotlib import pyplot as plt\n",
    "import math, os, re, time, random, string\n",
    "import numpy as np, pandas as pd, seaborn as sns\n",
    "\n",
    "from tqdm import tqdm\n",
    "\n",
    "#visualization\n",
    "import matplotlib.pyplot as plt\n",
    "plt.style.use('ggplot')   #for optimum aesthetics \n",
    "import seaborn as sns\n",
    "\n",
    "#natural language processing\n",
    "from collections import defaultdict\n",
    "# import wordcloud\n",
    "\n",
    "import warnings\n",
    "warnings.filterwarnings('ignore')\n",
    "\n",
    "#for neural nets\n",
    "import tensorflow as tf\n",
    "\n",
    "# Scikit-learn\n",
    "from sklearn.model_selection import train_test_split\n",
    "from sklearn.preprocessing import LabelEncoder\n",
    "from sklearn.manifold import TSNE\n",
    "from sklearn.feature_extraction.text import TfidfVectorizer\n",
    "from math import log\n",
    "from nltk.tokenize import word_tokenize\n",
    "from sklearn.metrics import accuracy_score, f1_score, precision_score, recall_score, confusion_matrix, classification_report\n",
    "\n",
    "\n",
    "# from wordcloud import WordCloud \n",
    "from textblob import TextBlob\n",
    "\n",
    "import numpy as np\n",
    "from PIL import Image\n",
    "\n",
    "\n",
    "import numpy as np\n",
    "from PIL import Image\n"
   ]
  },
  {
   "cell_type": "markdown",
   "metadata": {
    "id": "znVT9Sj64eGN"
   },
   "source": [
    "#### Variable declarations:"
   ]
  },
  {
   "cell_type": "code",
   "execution_count": null,
   "metadata": {
    "id": "1nKZtpa74eGO"
   },
   "outputs": [],
   "source": [
    "np.random.seed(1234)\n",
    "random_rows = 3100 # number of rows to read from Pos_Tweets.csv\n",
    "max_seq_length = 140 # Max tweet size\n",
    "max_words = 20000\n",
    "embed_dim = 300\n",
    "train_split = 0.6\n",
    "test_split = 0.2\n",
    "learn_rate = 0.1\n",
    "total_epochs= 10"
   ]
  },
  {
   "cell_type": "markdown",
   "metadata": {
    "id": "cXdePDGS4eGP"
   },
   "source": [
    "## 1) LOAD DATA"
   ]
  },
  {
   "cell_type": "markdown",
   "metadata": {
    "id": "KU-U89wD4eGP"
   },
   "source": [
    "### Reading the Input Files:"
   ]
  },
  {
   "cell_type": "markdown",
   "metadata": {
    "id": "a58B0S3z4eGQ"
   },
   "source": [
    "Loading Positive tweets from kaggle dataset"
   ]
  },
  {
   "cell_type": "code",
   "execution_count": null,
   "metadata": {
    "id": "lA-8Yafs4eGR",
    "outputId": "702499f8-e115-43d0-9666-026f66624d6c"
   },
   "outputs": [
    {
     "data": {
      "text/html": [
       "<div>\n",
       "<style scoped>\n",
       "    .dataframe tbody tr th:only-of-type {\n",
       "        vertical-align: middle;\n",
       "    }\n",
       "\n",
       "    .dataframe tbody tr th {\n",
       "        vertical-align: top;\n",
       "    }\n",
       "\n",
       "    .dataframe thead th {\n",
       "        text-align: right;\n",
       "    }\n",
       "</style>\n",
       "<table border=\"1\" class=\"dataframe\">\n",
       "  <thead>\n",
       "    <tr style=\"text-align: right;\">\n",
       "      <th></th>\n",
       "      <th>ItemID</th>\n",
       "      <th>Sentiment</th>\n",
       "      <th>SentimentSource</th>\n",
       "      <th>SentimentText</th>\n",
       "    </tr>\n",
       "  </thead>\n",
       "  <tbody>\n",
       "    <tr>\n",
       "      <th>0</th>\n",
       "      <td>3</td>\n",
       "      <td>0</td>\n",
       "      <td>Sentiment140</td>\n",
       "      <td>omg its already 7:30 :O</td>\n",
       "    </tr>\n",
       "    <tr>\n",
       "      <th>1</th>\n",
       "      <td>7</td>\n",
       "      <td>0</td>\n",
       "      <td>Sentiment140</td>\n",
       "      <td>Juuuuuuuuuuuuuuuuussssst Chillin!!</td>\n",
       "    </tr>\n",
       "    <tr>\n",
       "      <th>2</th>\n",
       "      <td>9</td>\n",
       "      <td>0</td>\n",
       "      <td>Sentiment140</td>\n",
       "      <td>handed in my uniform today . i miss you ...</td>\n",
       "    </tr>\n",
       "    <tr>\n",
       "      <th>3</th>\n",
       "      <td>10</td>\n",
       "      <td>0</td>\n",
       "      <td>Sentiment140</td>\n",
       "      <td>hmmmm.... i wonder how she my number @-)</td>\n",
       "    </tr>\n",
       "    <tr>\n",
       "      <th>4</th>\n",
       "      <td>12</td>\n",
       "      <td>0</td>\n",
       "      <td>Sentiment140</td>\n",
       "      <td>thanks to all the haters up in my face a...</td>\n",
       "    </tr>\n",
       "  </tbody>\n",
       "</table>\n",
       "</div>"
      ],
      "text/plain": [
       "   ItemID  Sentiment SentimentSource  \\\n",
       "0       3          0    Sentiment140   \n",
       "1       7          0    Sentiment140   \n",
       "2       9          0    Sentiment140   \n",
       "3      10          0    Sentiment140   \n",
       "4      12          0    Sentiment140   \n",
       "\n",
       "                                       SentimentText  \n",
       "0                            omg its already 7:30 :O  \n",
       "1                 Juuuuuuuuuuuuuuuuussssst Chillin!!  \n",
       "2        handed in my uniform today . i miss you ...  \n",
       "3           hmmmm.... i wonder how she my number @-)  \n",
       "4        thanks to all the haters up in my face a...  "
      ]
     },
     "execution_count": 4,
     "metadata": {
      "tags": []
     },
     "output_type": "execute_result"
    }
   ],
   "source": [
    "random_tweets_df = pd.read_csv('Pos_Tweets.csv', encoding = \"ISO-8859-1\", usecols = range(0,4), nrows = random_rows)\n",
    "random_tweets_df.head()"
   ]
  },
  {
   "cell_type": "markdown",
   "metadata": {
    "id": "M881sM_e4eGX"
   },
   "source": [
    "Loading depressive tweets that are scraped from twitter"
   ]
  },
  {
   "cell_type": "code",
   "execution_count": null,
   "metadata": {
    "id": "fRB7Haps4eGX",
    "outputId": "6222d85b-d777-4852-ab02-929d633338b9"
   },
   "outputs": [
    {
     "data": {
      "text/html": [
       "<div>\n",
       "<style scoped>\n",
       "    .dataframe tbody tr th:only-of-type {\n",
       "        vertical-align: middle;\n",
       "    }\n",
       "\n",
       "    .dataframe tbody tr th {\n",
       "        vertical-align: top;\n",
       "    }\n",
       "\n",
       "    .dataframe thead th {\n",
       "        text-align: right;\n",
       "    }\n",
       "</style>\n",
       "<table border=\"1\" class=\"dataframe\">\n",
       "  <thead>\n",
       "    <tr style=\"text-align: right;\">\n",
       "      <th></th>\n",
       "      <th>Tweet</th>\n",
       "      <th>Time</th>\n",
       "      <th>User_Location</th>\n",
       "      <th>Sentiment</th>\n",
       "      <th>Retweets</th>\n",
       "    </tr>\n",
       "  </thead>\n",
       "  <tbody>\n",
       "    <tr>\n",
       "      <th>0</th>\n",
       "      <td>@SkySportsPL Jesse Lingard says came close tak...</td>\n",
       "      <td>2021-04-22 21:01:49+00:00</td>\n",
       "      <td>NaN</td>\n",
       "      <td>1</td>\n",
       "      <td>False</td>\n",
       "    </tr>\n",
       "    <tr>\n",
       "      <th>1</th>\n",
       "      <td>My parents undeserving title cuz believed kids...</td>\n",
       "      <td>2021-04-22 21:01:53+00:00</td>\n",
       "      <td>Joondalup, Western Australia</td>\n",
       "      <td>1</td>\n",
       "      <td>False</td>\n",
       "    </tr>\n",
       "    <tr>\n",
       "      <th>2</th>\n",
       "      <td>Breathing normally difficulty falling asleep d...</td>\n",
       "      <td>2021-04-22 21:01:55+00:00</td>\n",
       "      <td>7 Rd., 22/7 Saima Sub-distric,</td>\n",
       "      <td>1</td>\n",
       "      <td>False</td>\n",
       "    </tr>\n",
       "    <tr>\n",
       "      <th>3</th>\n",
       "      <td>Fentanyl depression respiration https://t.co/f...</td>\n",
       "      <td>2021-04-22 21:01:55+00:00</td>\n",
       "      <td>Bukowina Tatrzanska, Poland</td>\n",
       "      <td>1</td>\n",
       "      <td>False</td>\n",
       "    </tr>\n",
       "    <tr>\n",
       "      <th>4</th>\n",
       "      <td>@TosinOlugbenga Tweeting situations Nigeria gi...</td>\n",
       "      <td>2021-04-22 21:02:02+00:00</td>\n",
       "      <td>Ikeja, Lagos</td>\n",
       "      <td>1</td>\n",
       "      <td>False</td>\n",
       "    </tr>\n",
       "  </tbody>\n",
       "</table>\n",
       "</div>"
      ],
      "text/plain": [
       "                                               Tweet  \\\n",
       "0  @SkySportsPL Jesse Lingard says came close tak...   \n",
       "1  My parents undeserving title cuz believed kids...   \n",
       "2  Breathing normally difficulty falling asleep d...   \n",
       "3  Fentanyl depression respiration https://t.co/f...   \n",
       "4  @TosinOlugbenga Tweeting situations Nigeria gi...   \n",
       "\n",
       "                       Time                   User_Location  Sentiment  \\\n",
       "0 2021-04-22 21:01:49+00:00                             NaN          1   \n",
       "1 2021-04-22 21:01:53+00:00    Joondalup, Western Australia          1   \n",
       "2 2021-04-22 21:01:55+00:00  7 Rd., 22/7 Saima Sub-distric,          1   \n",
       "3 2021-04-22 21:01:55+00:00     Bukowina Tatrzanska, Poland          1   \n",
       "4 2021-04-22 21:02:02+00:00                    Ikeja, Lagos          1   \n",
       "\n",
       "   Retweets  \n",
       "0     False  \n",
       "1     False  \n",
       "2     False  \n",
       "3     False  \n",
       "4     False  "
      ]
     },
     "execution_count": 5,
     "metadata": {
      "tags": []
     },
     "output_type": "execute_result"
    }
   ],
   "source": [
    "depressive_tweets_df = pd.read_csv('Neg_Tweets.csv', parse_dates= [1])\n",
    "depressive_tweets_df.head()"
   ]
  },
  {
   "cell_type": "markdown",
   "metadata": {
    "id": "bf-vnyDO4eGY"
   },
   "source": [
    "Loading Pre trained Word2Vec Model "
   ]
  },
  {
   "cell_type": "code",
   "execution_count": null,
   "metadata": {
    "id": "x-TvsCUW4eGY"
   },
   "outputs": [],
   "source": [
    "word2vec = KeyedVectors.load_word2vec_format('GoogleNews-vectors-negative300.bin.gz', binary=True)"
   ]
  },
  {
   "cell_type": "markdown",
   "metadata": {
    "id": "vZrJNd0K4eGY"
   },
   "source": [
    "## 2) DATA PREPROCESSING & EXPLORATORY DATA ANALYSIS"
   ]
  },
  {
   "cell_type": "markdown",
   "metadata": {
    "id": "sikOpQO04eGZ"
   },
   "source": [
    "Removing hastags, links and images, @mentions, emoji's, punctuation, stop words, Perform stemming etc"
   ]
  },
  {
   "cell_type": "code",
   "execution_count": null,
   "metadata": {
    "id": "zuar2zpG4eGZ"
   },
   "outputs": [],
   "source": [
    "# Expand Contraction\n",
    "cList = {\n",
    "  \"ain't\": \"am not\",\n",
    "  \"aren't\": \"are not\",\n",
    "  \"can't\": \"cannot\",\n",
    "  \"can't've\": \"cannot have\",\n",
    "  \"'cause\": \"because\",\n",
    "  \"could've\": \"could have\",\n",
    "  \"couldn't\": \"could not\",\n",
    "  \"couldn't've\": \"could not have\",\n",
    "  \"didn't\": \"did not\",\n",
    "  \"doesn't\": \"does not\",\n",
    "  \"don't\": \"do not\",\n",
    "  \"hadn't\": \"had not\",\n",
    "  \"hadn't've\": \"had not have\",\n",
    "  \"hasn't\": \"has not\",\n",
    "  \"haven't\": \"have not\",\n",
    "  \"he'd\": \"he would\",\n",
    "  \"he'd've\": \"he would have\",\n",
    "  \"he'll\": \"he will\",\n",
    "  \"he'll've\": \"he will have\",\n",
    "  \"he's\": \"he is\",\n",
    "  \"how'd\": \"how did\",\n",
    "  \"how'd'y\": \"how do you\",\n",
    "  \"how'll\": \"how will\",\n",
    "  \"how's\": \"how is\",\n",
    "  \"I'd\": \"I would\",\n",
    "  \"I'd've\": \"I would have\",\n",
    "  \"I'll\": \"I will\",\n",
    "  \"I'll've\": \"I will have\",\n",
    "  \"I'm\": \"I am\",\n",
    "  \"I've\": \"I have\",\n",
    "  \"isn't\": \"is not\",\n",
    "  \"it'd\": \"it had\",\n",
    "  \"it'd've\": \"it would have\",\n",
    "  \"it'll\": \"it will\",\n",
    "  \"it'll've\": \"it will have\",\n",
    "  \"it's\": \"it is\",\n",
    "  \"let's\": \"let us\",\n",
    "  \"ma'am\": \"madam\",\n",
    "  \"mayn't\": \"may not\",\n",
    "  \"might've\": \"might have\",\n",
    "  \"mightn't\": \"might not\",\n",
    "  \"mightn't've\": \"might not have\",\n",
    "  \"must've\": \"must have\",\n",
    "  \"mustn't\": \"must not\",\n",
    "  \"mustn't've\": \"must not have\",\n",
    "  \"needn't\": \"need not\",\n",
    "  \"needn't've\": \"need not have\",\n",
    "  \"o'clock\": \"of the clock\",\n",
    "  \"oughtn't\": \"ought not\",\n",
    "  \"oughtn't've\": \"ought not have\",\n",
    "  \"shan't\": \"shall not\",\n",
    "  \"sha'n't\": \"shall not\",\n",
    "  \"shan't've\": \"shall not have\",\n",
    "  \"she'd\": \"she would\",\n",
    "  \"she'd've\": \"she would have\",\n",
    "  \"she'll\": \"she will\",\n",
    "  \"she'll've\": \"she will have\",\n",
    "  \"she's\": \"she is\",\n",
    "  \"should've\": \"should have\",\n",
    "  \"shouldn't\": \"should not\",\n",
    "  \"shouldn't've\": \"should not have\",\n",
    "  \"so've\": \"so have\",\n",
    "  \"so's\": \"so is\",\n",
    "  \"that'd\": \"that would\",\n",
    "  \"that'd've\": \"that would have\",\n",
    "  \"that's\": \"that is\",\n",
    "  \"there'd\": \"there had\",\n",
    "  \"there'd've\": \"there would have\",\n",
    "  \"there's\": \"there is\",\n",
    "  \"they'd\": \"they would\",\n",
    "  \"they'd've\": \"they would have\",\n",
    "  \"they'll\": \"they will\",\n",
    "  \"they'll've\": \"they will have\",\n",
    "  \"they're\": \"they are\",\n",
    "  \"they've\": \"they have\",\n",
    "  \"to've\": \"to have\",\n",
    "  \"wasn't\": \"was not\",\n",
    "  \"we'd\": \"we had\",\n",
    "  \"we'd've\": \"we would have\",\n",
    "  \"we'll\": \"we will\",\n",
    "  \"we'll've\": \"we will have\",\n",
    "  \"we're\": \"we are\",\n",
    "  \"we've\": \"we have\",\n",
    "  \"weren't\": \"were not\",\n",
    "  \"what'll\": \"what will\",\n",
    "  \"what'll've\": \"what will have\",\n",
    "  \"what're\": \"what are\",\n",
    "  \"what's\": \"what is\",\n",
    "  \"what've\": \"what have\",\n",
    "  \"when's\": \"when is\",\n",
    "  \"when've\": \"when have\",\n",
    "  \"where'd\": \"where did\",\n",
    "  \"where's\": \"where is\",\n",
    "  \"where've\": \"where have\",\n",
    "  \"who'll\": \"who will\",\n",
    "  \"who'll've\": \"who will have\",\n",
    "  \"who's\": \"who is\",\n",
    "  \"who've\": \"who have\",\n",
    "  \"why's\": \"why is\",\n",
    "  \"why've\": \"why have\",\n",
    "  \"will've\": \"will have\",\n",
    "  \"won't\": \"will not\",\n",
    "  \"won't've\": \"will not have\",\n",
    "  \"would've\": \"would have\",\n",
    "  \"wouldn't\": \"would not\",\n",
    "  \"wouldn't've\": \"would not have\",\n",
    "  \"y'all\": \"you all\",\n",
    "  \"y'alls\": \"you alls\",\n",
    "  \"y'all'd\": \"you all would\",\n",
    "  \"y'all'd've\": \"you all would have\",\n",
    "  \"y'all're\": \"you all are\",\n",
    "  \"y'all've\": \"you all have\",\n",
    "  \"you'd\": \"you had\",\n",
    "  \"you'd've\": \"you would have\",\n",
    "  \"you'll\": \"you you will\",\n",
    "  \"you'll've\": \"you you will have\",\n",
    "  \"you're\": \"you are\",\n",
    "  \"you've\": \"you have\",\n",
    "    \"https\": \" \",\n",
    "    \"co\": \" \",\n",
    "    \"the\": \" \",\n",
    "    \"it\": \" \"\n",
    "}\n",
    "\n",
    "c_re = re.compile('(%s)' % '|'.join(cList.keys()))\n",
    "\n",
    "def expandContractions(text, c_re=c_re):\n",
    "    def replace(match):\n",
    "        return cList[match.group(0)]\n",
    "    return c_re.sub(replace, text)"
   ]
  },
  {
   "cell_type": "code",
   "execution_count": null,
   "metadata": {
    "id": "D3TRwTeH4eGb"
   },
   "outputs": [],
   "source": [
    "def clean_tweets(tweets):\n",
    "    cleaned_tweets = []\n",
    "    for tweet in tweets:\n",
    "        tweet = str(tweet)        \n",
    "        \n",
    "        if re.match(\"(\\w+:\\/\\/\\S+)\", tweet) == None and len(tweet) > 10:\n",
    "            #removing hashtag, @mention, emoji and image URLs\n",
    "            tweet = ' '.join(re.sub(\"(@[A-Za-z0-9]+)|(\\#[A-Za-z0-9]+)|(<Emoji:.*>)|(pic\\.twitter\\.com\\/.*)\", \" \", tweet).split())\n",
    "            \n",
    "            #fixing encoded texts\n",
    "            tweet = ftfy.fix_text(tweet)\n",
    "            \n",
    "            #expanding contractions\n",
    "            tweet = expandContractions(tweet)\n",
    "\n",
    "            #removing punctuations\n",
    "            tweet = ' '.join(re.sub(\"([^0-9A-Za-z \\t])\", \" \", tweet).split())\n",
    "\n",
    "            #removing stop words\n",
    "            stop_words = set(stopwords.words('english'))\n",
    "            word_tokens = nltk.word_tokenize(tweet) \n",
    "            filtered_sentence = [w for w in word_tokens if not w in stop_words]\n",
    "            tweet = ' '.join(filtered_sentence)\n",
    "\n",
    "            #stemming words\n",
    "            tweet = PorterStemmer().stem(tweet)\n",
    "                        \n",
    "            cleaned_tweets.append(tweet)\n",
    "\n",
    "    return cleaned_tweets"
   ]
  },
  {
   "cell_type": "markdown",
   "metadata": {
    "id": "E1YlU5Mp4eGd"
   },
   "source": [
    "Applying the above clean function to all the elements in depressive tweets and random tweets"
   ]
  },
  {
   "cell_type": "code",
   "execution_count": null,
   "metadata": {
    "id": "Vm6PwYzf4eGd"
   },
   "outputs": [],
   "source": [
    "# Storing the tweets as a list\n",
    "depressive_tweets_arr = [x for x in depressive_tweets_df['Tweet']]\n",
    "random_tweets_arr = [x for x in random_tweets_df['SentimentText']]\n",
    "\n",
    "# Cleaning\n",
    "X_depressive = clean_tweets(depressive_tweets_arr)\n",
    "X_random = clean_tweets(random_tweets_arr)"
   ]
  },
  {
   "cell_type": "code",
   "execution_count": null,
   "metadata": {
    "id": "uFe-KQGM4eGd",
    "outputId": "e614260f-b263-4a8e-9371-918ccaa43173"
   },
   "outputs": [
    {
     "data": {
      "text/html": [
       "<div>\n",
       "<style scoped>\n",
       "    .dataframe tbody tr th:only-of-type {\n",
       "        vertical-align: middle;\n",
       "    }\n",
       "\n",
       "    .dataframe tbody tr th {\n",
       "        vertical-align: top;\n",
       "    }\n",
       "\n",
       "    .dataframe thead th {\n",
       "        text-align: right;\n",
       "    }\n",
       "</style>\n",
       "<table border=\"1\" class=\"dataframe\">\n",
       "  <thead>\n",
       "    <tr style=\"text-align: right;\">\n",
       "      <th></th>\n",
       "      <th>Tweet</th>\n",
       "      <th>Time</th>\n",
       "      <th>User_Location</th>\n",
       "      <th>Sentiment</th>\n",
       "      <th>Retweets</th>\n",
       "    </tr>\n",
       "  </thead>\n",
       "  <tbody>\n",
       "    <tr>\n",
       "      <th>0</th>\n",
       "      <td>@SkySportsPL Jesse Lingard says came close tak...</td>\n",
       "      <td>2021-04-22 21:01:49+00:00</td>\n",
       "      <td>NaN</td>\n",
       "      <td>1</td>\n",
       "      <td>False</td>\n",
       "    </tr>\n",
       "    <tr>\n",
       "      <th>1</th>\n",
       "      <td>My parents undeserving title cuz believed kids...</td>\n",
       "      <td>2021-04-22 21:01:53+00:00</td>\n",
       "      <td>Joondalup, Western Australia</td>\n",
       "      <td>1</td>\n",
       "      <td>False</td>\n",
       "    </tr>\n",
       "    <tr>\n",
       "      <th>2</th>\n",
       "      <td>Breathing normally difficulty falling asleep d...</td>\n",
       "      <td>2021-04-22 21:01:55+00:00</td>\n",
       "      <td>7 Rd., 22/7 Saima Sub-distric,</td>\n",
       "      <td>1</td>\n",
       "      <td>False</td>\n",
       "    </tr>\n",
       "  </tbody>\n",
       "</table>\n",
       "</div>"
      ],
      "text/plain": [
       "                                               Tweet  \\\n",
       "0  @SkySportsPL Jesse Lingard says came close tak...   \n",
       "1  My parents undeserving title cuz believed kids...   \n",
       "2  Breathing normally difficulty falling asleep d...   \n",
       "\n",
       "                       Time                   User_Location  Sentiment  \\\n",
       "0 2021-04-22 21:01:49+00:00                             NaN          1   \n",
       "1 2021-04-22 21:01:53+00:00    Joondalup, Western Australia          1   \n",
       "2 2021-04-22 21:01:55+00:00  7 Rd., 22/7 Saima Sub-distric,          1   \n",
       "\n",
       "   Retweets  \n",
       "0     False  \n",
       "1     False  \n",
       "2     False  "
      ]
     },
     "execution_count": 10,
     "metadata": {
      "tags": []
     },
     "output_type": "execute_result"
    }
   ],
   "source": [
    "depressive_tweets_df[:3]"
   ]
  },
  {
   "cell_type": "code",
   "execution_count": null,
   "metadata": {
    "id": "fKb2GRMN4eGe",
    "outputId": "22291632-ef24-4e87-cbcc-cd607732543f"
   },
   "outputs": [
    {
     "data": {
      "text/plain": [
       "['@SkySportsPL Jesse Lingard says came close taking timeout football lockdown battled mental health issues …',\n",
       " 'My parents undeserving title cuz believed kids would fix dysfunctional relatio … https://t.co/8LEWaspoZ6',\n",
       " 'Breathing normally difficulty falling asleep depression bipolar disorder sleeping well #PurePhonon #PurePhoton … https://t.co/IPxf0fc1N9']"
      ]
     },
     "execution_count": 11,
     "metadata": {
      "tags": []
     },
     "output_type": "execute_result"
    }
   ],
   "source": [
    "depressive_tweets_arr[:3]"
   ]
  },
  {
   "cell_type": "markdown",
   "metadata": {
    "id": "EVuvaiwQ4eGe"
   },
   "source": [
    "### Data Visualization"
   ]
  },
  {
   "cell_type": "markdown",
   "metadata": {
    "id": "XpjVA-vA4eGe"
   },
   "source": [
    "##### Most common words"
   ]
  },
  {
   "cell_type": "code",
   "execution_count": null,
   "metadata": {
    "id": "TDutBk4q4eGe",
    "outputId": "243a921a-7804-4470-dbb8-2cfc7ea9a589"
   },
   "outputs": [
    {
     "name": "stdout",
     "output_type": "stream",
     "text": [
      "[('depression', 1806), ('i', 1343), ('health', 395), ('mental', 337), ('amp', 303), ('depress', 257), ('know', 255), ('anxiety', 244), ('one', 227), ('like', 216)]\n"
     ]
    }
   ],
   "source": [
    "from collections import Counter\n",
    "\n",
    "data_set = ' '.join(x for x in X_depressive)\n",
    "split_it = data_set.split()\n",
    "Counter = Counter(split_it)\n",
    "  \n",
    "# 10 most commonly occuring words\n",
    "most_occur = Counter.most_common(10)\n",
    "  \n",
    "print(most_occur)"
   ]
  },
  {
   "cell_type": "markdown",
   "metadata": {},
   "source": [
    "#### Common words visualization"
   ]
  },
  {
   "cell_type": "code",
   "execution_count": null,
   "metadata": {
    "id": "fjMqFGiC4eGf",
    "outputId": "6966604b-fb56-4c84-d45e-280117f609c5",
    "scrolled": false
   },
   "outputs": [
    {
     "data": {
      "image/png": "[encoded data removed]",
      "text/plain": [
       "<Figure size 432x288 with 1 Axes>"
      ]
     },
     "metadata": {
      "tags": []
     },
     "output_type": "display_data"
    }
   ],
   "source": [
    "names, values = zip(*most_occur)  \n",
    "ind = np.arange(len(most_occur))  \n",
    "width = 0.35       \n",
    "\n",
    "fig, ax = plt.subplots()\n",
    "rects1 = ax.bar(ind, values, width, color='r')\n",
    "\n",
    "ax.set_ylabel('Count')\n",
    "ax.set_xticks(ind+width/2.)\n",
    "ax.set_xticklabels(names)\n",
    "\n",
    "\n",
    "\n",
    "def autolabel(rects):\n",
    "    \n",
    "    for rect in rects:\n",
    "        height = rect.get_height()\n",
    "        ax.text(rect.get_x() + rect.get_width()/2., 1.05*height,\n",
    "                '%d' % int(height),\n",
    "                ha='center', va='bottom')\n",
    "\n",
    "autolabel(rects1)\n",
    "\n",
    "plt.show()"
   ]
  },
  {
   "cell_type": "markdown",
   "metadata": {
    "id": "RQFbPh-j4eGg"
   },
   "source": [
    "##### Frquency distribution of Top 50 tokens"
   ]
  },
  {
   "cell_type": "code",
   "execution_count": null,
   "metadata": {
    "id": "LtmVXrXk4eGg",
    "outputId": "2184c984-dfd1-4ea3-e427-c602c3c6e10d"
   },
   "outputs": [
    {
     "data": {
      "image/png": "[encoded data removed]",
      "text/plain": [
       "<Figure size 576x396 with 1 Axes>"
      ]
     },
     "metadata": {
      "tags": []
     },
     "output_type": "display_data"
    },
    {
     "data": {
      "text/plain": [
       "<matplotlib.axes._subplots.AxesSubplot at 0x26244d47a48>"
      ]
     },
     "execution_count": 13,
     "metadata": {
      "tags": []
     },
     "output_type": "execute_result"
    }
   ],
   "source": [
    "import yellowbrick\n",
    "from yellowbrick.text import FreqDistVisualizer\n",
    "from sklearn.feature_extraction.text import CountVectorizer\n",
    "\n",
    "stop_words = set(stopwords.words('english'))\n",
    "vectorizer = CountVectorizer(stop_words=stop_words)\n",
    "docs = vectorizer.fit_transform(X_depressive)\n",
    "features = vectorizer.get_feature_names()\n",
    "visualizer = FreqDistVisualizer(features=features)\n",
    "visualizer.fit(docs)\n",
    "visualizer.poof()"
   ]
  },
  {
   "cell_type": "markdown",
   "metadata": {
    "id": "kqgqZvio4eGh"
   },
   "source": [
    "##### Polarity of Depressive Tweets for every hour : "
   ]
  },
  {
   "cell_type": "code",
   "execution_count": null,
   "metadata": {
    "id": "R9GQWskb4eGh"
   },
   "outputs": [],
   "source": [
    "depressive_tweets_df['polarity']=depressive_tweets_df['Tweet'].apply(lambda x:TextBlob(x).sentiment.polarity)"
   ]
  },
  {
   "cell_type": "code",
   "execution_count": null,
   "metadata": {
    "id": "xO5qmjV74eGh",
    "outputId": "e122d115-6bee-4762-c812-28fba3dd5542"
   },
   "outputs": [
    {
     "data": {
      "text/html": [
       "<div>\n",
       "<style scoped>\n",
       "    .dataframe tbody tr th:only-of-type {\n",
       "        vertical-align: middle;\n",
       "    }\n",
       "\n",
       "    .dataframe tbody tr th {\n",
       "        vertical-align: top;\n",
       "    }\n",
       "\n",
       "    .dataframe thead th {\n",
       "        text-align: right;\n",
       "    }\n",
       "</style>\n",
       "<table border=\"1\" class=\"dataframe\">\n",
       "  <thead>\n",
       "    <tr style=\"text-align: right;\">\n",
       "      <th></th>\n",
       "      <th>Tweet</th>\n",
       "      <th>Time</th>\n",
       "      <th>User_Location</th>\n",
       "      <th>Sentiment</th>\n",
       "      <th>Retweets</th>\n",
       "      <th>polarity</th>\n",
       "      <th>houroftweet</th>\n",
       "    </tr>\n",
       "  </thead>\n",
       "  <tbody>\n",
       "    <tr>\n",
       "      <th>0</th>\n",
       "      <td>@SkySportsPL Jesse Lingard says came close tak...</td>\n",
       "      <td>2021-04-22 21:01:49+00:00</td>\n",
       "      <td>NaN</td>\n",
       "      <td>1</td>\n",
       "      <td>False</td>\n",
       "      <td>-0.10</td>\n",
       "      <td>21</td>\n",
       "    </tr>\n",
       "    <tr>\n",
       "      <th>1</th>\n",
       "      <td>My parents undeserving title cuz believed kids...</td>\n",
       "      <td>2021-04-22 21:01:53+00:00</td>\n",
       "      <td>Joondalup, Western Australia</td>\n",
       "      <td>1</td>\n",
       "      <td>False</td>\n",
       "      <td>0.00</td>\n",
       "      <td>21</td>\n",
       "    </tr>\n",
       "    <tr>\n",
       "      <th>2</th>\n",
       "      <td>Breathing normally difficulty falling asleep d...</td>\n",
       "      <td>2021-04-22 21:01:55+00:00</td>\n",
       "      <td>7 Rd., 22/7 Saima Sub-distric,</td>\n",
       "      <td>1</td>\n",
       "      <td>False</td>\n",
       "      <td>0.15</td>\n",
       "      <td>21</td>\n",
       "    </tr>\n",
       "    <tr>\n",
       "      <th>3</th>\n",
       "      <td>Fentanyl depression respiration https://t.co/f...</td>\n",
       "      <td>2021-04-22 21:01:55+00:00</td>\n",
       "      <td>Bukowina Tatrzanska, Poland</td>\n",
       "      <td>1</td>\n",
       "      <td>False</td>\n",
       "      <td>0.00</td>\n",
       "      <td>21</td>\n",
       "    </tr>\n",
       "    <tr>\n",
       "      <th>4</th>\n",
       "      <td>@TosinOlugbenga Tweeting situations Nigeria gi...</td>\n",
       "      <td>2021-04-22 21:02:02+00:00</td>\n",
       "      <td>Ikeja, Lagos</td>\n",
       "      <td>1</td>\n",
       "      <td>False</td>\n",
       "      <td>-0.10</td>\n",
       "      <td>21</td>\n",
       "    </tr>\n",
       "  </tbody>\n",
       "</table>\n",
       "</div>"
      ],
      "text/plain": [
       "                                               Tweet  \\\n",
       "0  @SkySportsPL Jesse Lingard says came close tak...   \n",
       "1  My parents undeserving title cuz believed kids...   \n",
       "2  Breathing normally difficulty falling asleep d...   \n",
       "3  Fentanyl depression respiration https://t.co/f...   \n",
       "4  @TosinOlugbenga Tweeting situations Nigeria gi...   \n",
       "\n",
       "                       Time                   User_Location  Sentiment  \\\n",
       "0 2021-04-22 21:01:49+00:00                             NaN          1   \n",
       "1 2021-04-22 21:01:53+00:00    Joondalup, Western Australia          1   \n",
       "2 2021-04-22 21:01:55+00:00  7 Rd., 22/7 Saima Sub-distric,          1   \n",
       "3 2021-04-22 21:01:55+00:00     Bukowina Tatrzanska, Poland          1   \n",
       "4 2021-04-22 21:02:02+00:00                    Ikeja, Lagos          1   \n",
       "\n",
       "   Retweets  polarity  houroftweet  \n",
       "0     False     -0.10           21  \n",
       "1     False      0.00           21  \n",
       "2     False      0.15           21  \n",
       "3     False      0.00           21  \n",
       "4     False     -0.10           21  "
      ]
     },
     "execution_count": 15,
     "metadata": {
      "tags": []
     },
     "output_type": "execute_result"
    }
   ],
   "source": [
    "# extract date from the datetime object\n",
    "depressive_tweets_df['houroftweet'] = depressive_tweets_df['Time'].dt.hour\n",
    "depressive_tweets_df.head()"
   ]
  },
  {
   "cell_type": "code",
   "execution_count": null,
   "metadata": {
    "id": "ppQs028s4eGh",
    "outputId": "ab6954a7-a06d-4d0a-dc09-7b3a66bdacf7",
    "scrolled": false
   },
   "outputs": [
    {
     "data": {
      "image/png": "[encoded data removed]",
      "text/plain": [
       "<Figure size 1152x576 with 1 Axes>"
      ]
     },
     "metadata": {
      "tags": []
     },
     "output_type": "display_data"
    }
   ],
   "source": [
    "polarity_sorted=pd.DataFrame(depressive_tweets_df.groupby('houroftweet')['polarity'].mean().sort_values(ascending=True))\n",
    "\n",
    "plt.figure(figsize=(16,8))\n",
    "plt.xlabel('Polarity')\n",
    "plt.ylabel('Depressive Tweets')\n",
    "plt.title('Polarity of Depressive Tweets for every hour')\n",
    "polarity_graph=plt.barh(np.arange(len(polarity_sorted.index)),polarity_sorted['polarity'],color='purple',)\n",
    "\n",
    "for bar,product in zip(polarity_graph,polarity_sorted.index):\n",
    "  plt.text(0.005,bar.get_y()+bar.get_width(),'{}'.format(product),va='center',fontsize=11,color='white')\n",
    "\n",
    "for bar,polarity in zip(polarity_graph,polarity_sorted['polarity']):\n",
    "  plt.text(bar.get_width()+0.00001,bar.get_y()+bar.get_width(),'%.3f'%polarity,va='center',fontsize=11,color='black')\n",
    "  \n",
    "plt.yticks([])\n",
    "plt.show()"
   ]
  },
  {
   "cell_type": "markdown",
   "metadata": {
    "id": "0BXkBb-w4eGi"
   },
   "source": [
    "#####  Word Cloud  (For negative sentiments)"
   ]
  },
  {
   "cell_type": "code",
   "execution_count": null,
   "metadata": {
    "id": "3x6OCkNM4eGi"
   },
   "outputs": [],
   "source": [
    "image_mask = np.array(Image.open(\"Sad_1.jpg\"))"
   ]
  },
  {
   "cell_type": "code",
   "execution_count": null,
   "metadata": {
    "id": "wHVuQAO24eGj"
   },
   "outputs": [],
   "source": [
    "# Create a word cloud image\n",
    "wc = WordCloud(background_color=\"black\", max_words=300, mask=image_mask, #stopwords=stopwords,\n",
    "               contour_width=1, contour_color='white')"
   ]
  },
  {
   "cell_type": "code",
   "execution_count": null,
   "metadata": {
    "id": "onf71vHM4eGj",
    "outputId": "3f02b483-e4ad-40e6-833f-591f01abb374"
   },
   "outputs": [
    {
     "data": {
      "text/plain": [
       "<wordcloud.wordcloud.WordCloud at 0x2635ecb23c8>"
      ]
     },
     "execution_count": 54,
     "metadata": {
      "tags": []
     },
     "output_type": "execute_result"
    }
   ],
   "source": [
    "# Generate a wordcloud\n",
    "text = ' '.join(review for review in X_depressive)\n",
    "wc.generate(text)"
   ]
  },
  {
   "cell_type": "code",
   "execution_count": null,
   "metadata": {
    "id": "7efflJC34eGm",
    "outputId": "0266b326-9c4a-49d7-ca83-0b8ebdd28ede"
   },
   "outputs": [
    {
     "data": {
      "image/png": "[encoded data removed]",
      "text/plain": [
       "<Figure size 720x576 with 1 Axes>"
      ]
     },
     "metadata": {
      "tags": []
     },
     "output_type": "display_data"
    }
   ],
   "source": [
    "plt.figure(figsize=[10,8])\n",
    "plt.imshow(wc, interpolation='nearest')\n",
    "plt.axis(\"off\")\n",
    "plt.show()   "
   ]
  },
  {
   "cell_type": "markdown",
   "metadata": {
    "id": "sVWKJef-4eGp"
   },
   "source": [
    "##### Word Cloud  (For positive sentiments)"
   ]
  },
  {
   "cell_type": "code",
   "execution_count": null,
   "metadata": {
    "id": "fuoJVZHt4eGq"
   },
   "outputs": [],
   "source": [
    "image_mask = np.array(Image.open(\"twitter.png\"))"
   ]
  },
  {
   "cell_type": "code",
   "execution_count": null,
   "metadata": {
    "id": "2dqKRCmu4eGr"
   },
   "outputs": [],
   "source": [
    "# Create a word cloud image\n",
    "wc = WordCloud(background_color=\"white\", max_words=300, mask=image_mask,\n",
    "               contour_width=1, contour_color='blue')"
   ]
  },
  {
   "cell_type": "code",
   "execution_count": null,
   "metadata": {
    "id": "kV-AxPpw4eGr",
    "outputId": "636d50b6-2e37-4bfe-ab5f-38f252fbd098"
   },
   "outputs": [
    {
     "data": {
      "text/plain": [
       "<wordcloud.wordcloud.WordCloud at 0x2635ea104c8>"
      ]
     },
     "execution_count": 27,
     "metadata": {
      "tags": []
     },
     "output_type": "execute_result"
    }
   ],
   "source": [
    "# Generate a wordcloud\n",
    "text = ' '.join(review for review in X_random)\n",
    "wc.generate(text)"
   ]
  },
  {
   "cell_type": "code",
   "execution_count": null,
   "metadata": {
    "id": "2gD5JTyL4eGs",
    "outputId": "b6db67fb-2128-4582-b0a9-a64e4a48e787"
   },
   "outputs": [
    {
     "data": {
      "image/png": "[encoded data removed]",
      "text/plain": [
       "<Figure size 720x576 with 1 Axes>"
      ]
     },
     "metadata": {
      "tags": []
     },
     "output_type": "display_data"
    }
   ],
   "source": [
    "plt.figure(figsize=[10,8])\n",
    "plt.imshow(wc, interpolation='nearest')\n",
    "plt.axis(\"off\")\n",
    "plt.show()   "
   ]
  },
  {
   "cell_type": "markdown",
   "metadata": {
    "id": "l9beT4D44eGs"
   },
   "source": [
    "### Tokenization"
   ]
  },
  {
   "cell_type": "markdown",
   "metadata": {
    "id": "F15fZga24eGs"
   },
   "source": [
    "\n",
    "##### Sentence Tokenization - Generating vocabulary index dictionaries based on word frequency. Every word in the sentence is given a unique number:"
   ]
  },
  {
   "cell_type": "code",
   "execution_count": null,
   "metadata": {
    "id": "SHfSHFgd4eGs"
   },
   "outputs": [],
   "source": [
    "tokenizer = Tokenizer(num_words=max_words)\n",
    "tokenizer.fit_on_texts(X_depressive + X_random)"
   ]
  },
  {
   "cell_type": "markdown",
   "metadata": {
    "id": "UmqpVUgr4eGt"
   },
   "source": [
    "##### Transforms the above texts into a sequence of integers:"
   ]
  },
  {
   "cell_type": "code",
   "execution_count": null,
   "metadata": {
    "id": "1HeYe3ba4eGt"
   },
   "outputs": [],
   "source": [
    "seq_depressive = tokenizer.texts_to_sequences(X_depressive)\n",
    "seq_random = tokenizer.texts_to_sequences(X_random)"
   ]
  },
  {
   "cell_type": "markdown",
   "metadata": {
    "id": "LKnFEcSZ4eGt"
   },
   "source": [
    "##### Example displaying the word_index for a random sentence:"
   ]
  },
  {
   "cell_type": "code",
   "execution_count": null,
   "metadata": {
    "id": "ImHE15dt4eGt",
    "outputId": "4b8fa8c3-7372-48f8-abaf-69c9e4d54599"
   },
   "outputs": [
    {
     "data": {
      "text/plain": [
       "{'i': 1,\n",
       " 'coffee': 2,\n",
       " 'love': 3,\n",
       " 'like': 4,\n",
       " 'tea': 5,\n",
       " 'dislike': 6,\n",
       " 'milk': 7,\n",
       " 'am': 8,\n",
       " 'going': 9,\n",
       " 'to': 10,\n",
       " 'the': 11,\n",
       " 'supermarket': 12,\n",
       " 'later': 13,\n",
       " 'this': 14,\n",
       " 'morning': 15,\n",
       " 'for': 16,\n",
       " 'some': 17}"
      ]
     },
     "execution_count": 19,
     "metadata": {
      "tags": []
     },
     "output_type": "execute_result"
    }
   ],
   "source": [
    "t = Tokenizer()\n",
    "example_data = [\n",
    "  \"I love coffee.\",\n",
    "  \"I like tea.\",\n",
    "  \"I dislike milk.\",\n",
    "  \"I am going to the supermarket later this morning for some coffee.\"\n",
    "]\n",
    "t.fit_on_texts(example_data)\n",
    "t.word_index"
   ]
  },
  {
   "cell_type": "markdown",
   "metadata": {
    "id": "tX-g9Sdf4eGu"
   },
   "source": [
    "##### Example displaying the word_counts for a random sentence:"
   ]
  },
  {
   "cell_type": "code",
   "execution_count": null,
   "metadata": {
    "id": "jSFXG8z54eGu",
    "outputId": "bca82b5e-feef-4b0e-cc86-c07ac7f85fb8"
   },
   "outputs": [
    {
     "data": {
      "text/plain": [
       "OrderedDict([('i', 4),\n",
       "             ('love', 1),\n",
       "             ('coffee', 2),\n",
       "             ('like', 1),\n",
       "             ('tea', 1),\n",
       "             ('dislike', 1),\n",
       "             ('milk', 1),\n",
       "             ('am', 1),\n",
       "             ('going', 1),\n",
       "             ('to', 1),\n",
       "             ('the', 1),\n",
       "             ('supermarket', 1),\n",
       "             ('later', 1),\n",
       "             ('this', 1),\n",
       "             ('morning', 1),\n",
       "             ('for', 1),\n",
       "             ('some', 1)])"
      ]
     },
     "execution_count": 20,
     "metadata": {
      "tags": []
     },
     "output_type": "execute_result"
    }
   ],
   "source": [
    "t = Tokenizer()\n",
    "t.fit_on_texts(example_data)\n",
    "t.word_counts"
   ]
  },
  {
   "cell_type": "code",
   "execution_count": null,
   "metadata": {
    "id": "yZ8y9MWi4eGu",
    "outputId": "553b3b61-bf50-42d6-e8e0-f9dc06cf8a3f"
   },
   "outputs": [
    {
     "name": "stdout",
     "output_type": "stream",
     "text": [
      "Total number of unique tokens = 11261 \n"
     ]
    }
   ],
   "source": [
    "word_index = tokenizer.word_index\n",
    "print('Total number of unique tokens = %s ' % len(word_index))"
   ]
  },
  {
   "cell_type": "markdown",
   "metadata": {
    "id": "5nE-35H04eGv"
   },
   "source": [
    "#### pad_sequences\n",
    "* This function transforms a list of sequences (integers) into a 2-Dimensional Numpy array of shape (number_of_samples, number_of_timesteps).  \n",
    "* Any sequences shorter than the number_of_timesteps will be padded until they are number_of_timesteps long.\n",
    "* Any sequences longer than the number_of_timesteps will be truncated so that they fit the desired length."
   ]
  },
  {
   "cell_type": "code",
   "execution_count": null,
   "metadata": {
    "id": "lRgKSago4eGw",
    "outputId": "e45d34eb-a7a7-4bcc-af63-889f6b7508f4"
   },
   "outputs": [
    {
     "name": "stdout",
     "output_type": "stream",
     "text": [
      "Shape of data_depressive tensor: (3648, 140)\n",
      "Shape of data_random tensor: (2939, 140)\n"
     ]
    }
   ],
   "source": [
    "data_depressive = pad_sequences(seq_depressive, maxlen=max_seq_length)\n",
    "data_random = pad_sequences(seq_random, maxlen=max_seq_length)\n",
    "print('Shape of data_depressive tensor:', data_depressive.shape)\n",
    "print('Shape of data_random tensor:', data_random.shape)"
   ]
  },
  {
   "cell_type": "markdown",
   "metadata": {
    "id": "lXzqC5964eGx"
   },
   "source": [
    "### Embedding Matrix"
   ]
  },
  {
   "cell_type": "code",
   "execution_count": null,
   "metadata": {
    "id": "Ya8m-xm44eGx"
   },
   "outputs": [],
   "source": [
    "words = min(max_words+1, len(word_index)+1)\n",
    "\n",
    "embedding_matrix = np.zeros((words, embed_dim))\n",
    "\n",
    "for (word, idx) in word_index.items():\n",
    "    if word in word2vec.vocab and idx < max_words:\n",
    "        embedding_matrix[idx] = word2vec.word_vec(word)"
   ]
  },
  {
   "cell_type": "code",
   "execution_count": null,
   "metadata": {
    "id": "sNrspGAq4eGx",
    "outputId": "cad2cafd-a566-4b9e-f0a5-f839ab85a9e9"
   },
   "outputs": [
    {
     "name": "stdout",
     "output_type": "stream",
     "text": [
      "3648\n",
      "2939\n"
     ]
    }
   ],
   "source": [
    "print(len(data_depressive))\n",
    "print(len(data_random))"
   ]
  },
  {
   "cell_type": "code",
   "execution_count": null,
   "metadata": {
    "id": "RRxB0p204eGx"
   },
   "outputs": [],
   "source": [
    "depressive_labels = np.array(depressive_tweets_df['Sentiment'])\n",
    "random_labels = np.array(random_tweets_df['Sentiment'])"
   ]
  },
  {
   "cell_type": "markdown",
   "metadata": {
    "id": "iWgtSxp24eGx"
   },
   "source": [
    "### Shuffling, splitting and Formatting the data"
   ]
  },
  {
   "cell_type": "markdown",
   "metadata": {
    "id": "ttQ5NKKN4eGy"
   },
   "source": [
    "##### Random Shuffling"
   ]
  },
  {
   "cell_type": "code",
   "execution_count": null,
   "metadata": {
    "id": "RgMIp3Yf4eGy"
   },
   "outputs": [],
   "source": [
    "depressive_perm = np.random.permutation(len(data_depressive))\n",
    "train_depressive_indx = depressive_perm[:int(len(data_depressive)*(train_split))]\n",
    "test_depressive_indx = depressive_perm[int(len(data_depressive)*(train_split)):int(len(data_depressive)*(train_split+test_split))]\n",
    "val_depressive_indx = depressive_perm[int(len(data_depressive)*(train_split+test_split)):]"
   ]
  },
  {
   "cell_type": "code",
   "execution_count": null,
   "metadata": {
    "id": "ior7mTFw4eGy"
   },
   "outputs": [],
   "source": [
    "random_perm = np.random.permutation(len(data_random))\n",
    "train_random_indx = random_perm[:int(len(data_random)*(train_split))]\n",
    "test_random_indx = random_perm[int(len(data_random)*(train_split)):int(len(data_random)*(train_split+test_split))]\n",
    "val_random_indx = random_perm[int(len(data_random)*(train_split+test_split)):]"
   ]
  },
  {
   "cell_type": "markdown",
   "metadata": {
    "id": "84_LrWwj4eGy"
   },
   "source": [
    "##### Data Splitting "
   ]
  },
  {
   "cell_type": "code",
   "execution_count": null,
   "metadata": {
    "id": "46TMEI1p4eGz"
   },
   "outputs": [],
   "source": [
    "data_train = np.concatenate((data_depressive[train_depressive_indx], data_random[train_random_indx]))\n",
    "labels_train = np.concatenate((depressive_labels[train_depressive_indx], random_labels[train_random_indx]))\n",
    "data_test = np.concatenate((data_depressive[test_depressive_indx], data_random[test_random_indx]))\n",
    "labels_test = np.concatenate((depressive_labels[test_depressive_indx], random_labels[test_random_indx]))\n",
    "data_val = np.concatenate((data_depressive[val_depressive_indx], data_random[val_random_indx]))\n",
    "labels_val = np.concatenate((depressive_labels[val_depressive_indx], random_labels[val_random_indx]))"
   ]
  },
  {
   "cell_type": "markdown",
   "metadata": {
    "id": "r96cdI-i4eG3"
   },
   "source": [
    "##### Shuffling the split data:"
   ]
  },
  {
   "cell_type": "code",
   "execution_count": null,
   "metadata": {
    "id": "02zUKYM64eG4"
   },
   "outputs": [],
   "source": [
    "perm_train = np.random.permutation(len(data_train))\n",
    "data_train = data_train[perm_train]\n",
    "labels_train = labels_train[perm_train]\n",
    "perm_test = np.random.permutation(len(data_test))\n",
    "data_test = data_test[perm_test]\n",
    "labels_test = labels_test[perm_test]\n",
    "perm_val = np.random.permutation(len(data_val))\n",
    "data_val = data_val[perm_val]\n",
    "labels_val = labels_val[perm_val]"
   ]
  },
  {
   "cell_type": "markdown",
   "metadata": {
    "id": "bpWZPJwV4eG4"
   },
   "source": [
    "## 3) BUILDING MODELS"
   ]
  },
  {
   "cell_type": "markdown",
   "metadata": {
    "id": "l5PUtk_u4eG4"
   },
   "source": [
    "### Model -1: Logistic Regression [BaseLine Model]"
   ]
  },
  {
   "cell_type": "code",
   "execution_count": null,
   "metadata": {
    "id": "S2ZlnIea4eG4"
   },
   "outputs": [],
   "source": [
    "class LogReg:\n",
    "    \"\"\"\n",
    "    Class to represent a logistic regression model.\n",
    "    \"\"\"\n",
    "\n",
    "    def __init__(self, l_rate, total_epochs, n_features):       \n",
    "        \n",
    "        self.l_rate = l_rate\n",
    "        self.total_epochs = total_epochs\n",
    "        self.coef = [0.0] * n_features\n",
    "        self.bias = 0.0\n",
    "\n",
    "    def sigmoid(self, score, threshold=20.0):\n",
    "        \n",
    "        if abs(score) > threshold:\n",
    "            score = threshold * sign(score)\n",
    "        activation = exp(score)\n",
    "        return activation / (1.0 + activation)\n",
    "\n",
    "    def predict(self, features):        \n",
    "        value = sum([features[i]*self.coef[i] for i in range(len(features))]) + self.bias\n",
    "        return self.sigmoid(value)\n",
    "\n",
    "    def sg_update(self, features, label):\n",
    "        \n",
    "        yhat = self.predict(features)\n",
    "        e = label - yhat\n",
    "        self.bias = self.bias + self.l_rate * e * yhat * (1-yhat)\n",
    "        for i in range(len(features)):\n",
    "            self.coef[i] = self.coef[i] + self.l_rate * e * yhat * (1-yhat) * features[i]\n",
    "        return\n",
    "\n",
    "    def train(self, X, y):\n",
    "        \n",
    "        for epoch in range(self.total_epochs):\n",
    "            for features, label in zip(X, y):\n",
    "                self.sg_update(features, label)\n",
    "        return self.bias, self.coef"
   ]
  },
  {
   "cell_type": "code",
   "execution_count": null,
   "metadata": {
    "id": "H_By25XT4eG6"
   },
   "outputs": [],
   "source": [
    "def precision_m(y_bar, y_pred):\n",
    "    true_positives = K.sum(K.round(K.clip(y_bar * y_pred, 0, 1)))\n",
    "    predicted_positives = K.sum(K.round(K.clip(y_pred, 0, 1)))\n",
    "    precision = true_positives / (predicted_positives + K.epsilon())\n",
    "    return precision"
   ]
  },
  {
   "cell_type": "code",
   "execution_count": null,
   "metadata": {
    "id": "EIGyh2Yt4eG7"
   },
   "outputs": [],
   "source": [
    "# Logistic Model\n",
    "logreg = LogReg(learn_rate, total_epochs, len(data_train[0]))\n",
    "bias_logreg, weights_logreg = logreg.train(data_train, labels_train)\n",
    "y_logistic = [round(logreg.predict(example)) for example in data_test]"
   ]
  },
  {
   "cell_type": "markdown",
   "metadata": {
    "id": "Y7TdWy0E4eG7"
   },
   "source": [
    "##### Logistic Regression Model Performance Metrics:"
   ]
  },
  {
   "cell_type": "code",
   "execution_count": null,
   "metadata": {
    "id": "wC77fJyH4eG7",
    "outputId": "714b58c6-92f3-47a7-a92d-34764e0b6807"
   },
   "outputs": [
    {
     "name": "stdout",
     "output_type": "stream",
     "text": [
      "Logistic Regression Model Accuracy: 0.5599393019726859\n",
      "Logistic Regression Model Precision: 1.0\n",
      "Logistic Regression Model Recall: 0.5572519083969466\n",
      "Logistic Regression Model F1 Score: 0.715686274509804\n"
     ]
    }
   ],
   "source": [
    "print('Logistic Regression Model Accuracy:', accuracy_score(y_logistic, labels_test))\n",
    "print('Logistic Regression Model Precision:', precision_score(y_logistic, labels_test))\n",
    "print('Logistic Regression Model Recall:', recall_score(y_logistic, labels_test))\n",
    "print('Logistic Regression Model F1 Score:', f1_score(y_logistic, labels_test))"
   ]
  },
  {
   "cell_type": "markdown",
   "metadata": {
    "id": "s3-kW9-u4eG8"
   },
   "source": [
    "### Model -2 : TFIDF and BOW"
   ]
  },
  {
   "cell_type": "code",
   "execution_count": null,
   "metadata": {
    "id": "hqRBtFIT4eG8",
    "outputId": "d29ba74f-43d2-418c-dc0a-d5a1fc1cc710"
   },
   "outputs": [
    {
     "data": {
      "text/html": [
       "<div>\n",
       "<style scoped>\n",
       "    .dataframe tbody tr th:only-of-type {\n",
       "        vertical-align: middle;\n",
       "    }\n",
       "\n",
       "    .dataframe tbody tr th {\n",
       "        vertical-align: top;\n",
       "    }\n",
       "\n",
       "    .dataframe thead th {\n",
       "        text-align: right;\n",
       "    }\n",
       "</style>\n",
       "<table border=\"1\" class=\"dataframe\">\n",
       "  <thead>\n",
       "    <tr style=\"text-align: right;\">\n",
       "      <th></th>\n",
       "      <th>Sentiment</th>\n",
       "      <th>Tweet</th>\n",
       "    </tr>\n",
       "  </thead>\n",
       "  <tbody>\n",
       "    <tr>\n",
       "      <th>0</th>\n",
       "      <td>0</td>\n",
       "      <td>omg its already 7:30 :O</td>\n",
       "    </tr>\n",
       "    <tr>\n",
       "      <th>1</th>\n",
       "      <td>0</td>\n",
       "      <td>Juuuuuuuuuuuuuuuuussssst Chillin!!</td>\n",
       "    </tr>\n",
       "    <tr>\n",
       "      <th>2</th>\n",
       "      <td>0</td>\n",
       "      <td>handed in my uniform today . i miss you ...</td>\n",
       "    </tr>\n",
       "    <tr>\n",
       "      <th>3</th>\n",
       "      <td>0</td>\n",
       "      <td>hmmmm.... i wonder how she my number @-)</td>\n",
       "    </tr>\n",
       "    <tr>\n",
       "      <th>4</th>\n",
       "      <td>0</td>\n",
       "      <td>thanks to all the haters up in my face a...</td>\n",
       "    </tr>\n",
       "  </tbody>\n",
       "</table>\n",
       "</div>"
      ],
      "text/plain": [
       "   Sentiment                                              Tweet\n",
       "0          0                            omg its already 7:30 :O\n",
       "1          0                 Juuuuuuuuuuuuuuuuussssst Chillin!!\n",
       "2          0        handed in my uniform today . i miss you ...\n",
       "3          0           hmmmm.... i wonder how she my number @-)\n",
       "4          0        thanks to all the haters up in my face a..."
      ]
     },
     "execution_count": 34,
     "metadata": {
      "tags": []
     },
     "output_type": "execute_result"
    }
   ],
   "source": [
    "df1 = random_tweets_df[[\"Sentiment\", \"SentimentText\"]]\n",
    "df2 = depressive_tweets_df[[\"Sentiment\",\"Tweet\"]]\n",
    "df1.columns=[\"Sentiment\", \"Tweet\"]\n",
    "df1.head()"
   ]
  },
  {
   "cell_type": "code",
   "execution_count": null,
   "metadata": {
    "id": "Xw8ca3Sc4eG9",
    "outputId": "360bd92f-77a1-4cae-8b89-6ac6980f3463"
   },
   "outputs": [
    {
     "data": {
      "text/html": [
       "<div>\n",
       "<style scoped>\n",
       "    .dataframe tbody tr th:only-of-type {\n",
       "        vertical-align: middle;\n",
       "    }\n",
       "\n",
       "    .dataframe tbody tr th {\n",
       "        vertical-align: top;\n",
       "    }\n",
       "\n",
       "    .dataframe thead th {\n",
       "        text-align: right;\n",
       "    }\n",
       "</style>\n",
       "<table border=\"1\" class=\"dataframe\">\n",
       "  <thead>\n",
       "    <tr style=\"text-align: right;\">\n",
       "      <th></th>\n",
       "      <th>Sentiment</th>\n",
       "      <th>Tweet</th>\n",
       "    </tr>\n",
       "  </thead>\n",
       "  <tbody>\n",
       "    <tr>\n",
       "      <th>0</th>\n",
       "      <td>1</td>\n",
       "      <td>@SkySportsPL Jesse Lingard says came close tak...</td>\n",
       "    </tr>\n",
       "    <tr>\n",
       "      <th>1</th>\n",
       "      <td>1</td>\n",
       "      <td>My parents undeserving title cuz believed kids...</td>\n",
       "    </tr>\n",
       "    <tr>\n",
       "      <th>2</th>\n",
       "      <td>1</td>\n",
       "      <td>Breathing normally difficulty falling asleep d...</td>\n",
       "    </tr>\n",
       "    <tr>\n",
       "      <th>3</th>\n",
       "      <td>1</td>\n",
       "      <td>Fentanyl depression respiration https://t.co/f...</td>\n",
       "    </tr>\n",
       "    <tr>\n",
       "      <th>4</th>\n",
       "      <td>1</td>\n",
       "      <td>@TosinOlugbenga Tweeting situations Nigeria gi...</td>\n",
       "    </tr>\n",
       "  </tbody>\n",
       "</table>\n",
       "</div>"
      ],
      "text/plain": [
       "   Sentiment                                              Tweet\n",
       "0          1  @SkySportsPL Jesse Lingard says came close tak...\n",
       "1          1  My parents undeserving title cuz believed kids...\n",
       "2          1  Breathing normally difficulty falling asleep d...\n",
       "3          1  Fentanyl depression respiration https://t.co/f...\n",
       "4          1  @TosinOlugbenga Tweeting situations Nigeria gi..."
      ]
     },
     "execution_count": 35,
     "metadata": {
      "tags": []
     },
     "output_type": "execute_result"
    }
   ],
   "source": [
    "df2.head()"
   ]
  },
  {
   "cell_type": "code",
   "execution_count": null,
   "metadata": {
    "id": "64e275F64eG9",
    "outputId": "e13f804a-d582-454b-d4a1-978292b335d4"
   },
   "outputs": [
    {
     "name": "stdout",
     "output_type": "stream",
     "text": [
      "<class 'pandas.core.frame.DataFrame'>\n",
      "Int64Index: 6702 entries, 0 to 3682\n",
      "Data columns (total 2 columns):\n",
      " #   Column     Non-Null Count  Dtype \n",
      "---  ------     --------------  ----- \n",
      " 0   Sentiment  6702 non-null   int64 \n",
      " 1   Tweet      6702 non-null   object\n",
      "dtypes: int64(1), object(1)\n",
      "memory usage: 157.1+ KB\n"
     ]
    }
   ],
   "source": [
    "TFBW_df = pd.concat([df1,df2])\n",
    "TFBW_df.info()"
   ]
  },
  {
   "cell_type": "code",
   "execution_count": null,
   "metadata": {
    "id": "5X6OIIsR4eG-",
    "outputId": "4af1de35-bd30-4dce-d8d5-18a9d61bc700"
   },
   "outputs": [
    {
     "name": "stdout",
     "output_type": "stream",
     "text": [
      "TRAIN size: 5361\n",
      "TEST size: 1341\n"
     ]
    },
    {
     "data": {
      "text/plain": [
       "1    2960\n",
       "0    2401\n",
       "Name: Sentiment, dtype: int64"
      ]
     },
     "execution_count": 37,
     "metadata": {
      "tags": []
     },
     "output_type": "execute_result"
    }
   ],
   "source": [
    "df_train, df_test = train_test_split(TFBW_df, test_size=1-0.8, random_state=42)\n",
    "print(\"TRAIN size:\", len(df_train))\n",
    "print(\"TEST size:\", len(df_test))\n",
    "df_train['Sentiment'].value_counts()"
   ]
  },
  {
   "cell_type": "code",
   "execution_count": null,
   "metadata": {
    "id": "b0VQj5DB4eG-"
   },
   "outputs": [],
   "source": [
    "def process_message(message, lower_case = True, stem = True, stop_words = True, gram = 2):\n",
    "    if lower_case:\n",
    "        message = message.lower()\n",
    "    words = word_tokenize(message)\n",
    "    words = [w for w in words if len(w) > 2]\n",
    "    if gram > 1:\n",
    "        w = []\n",
    "        for i in range(len(words) - gram + 1):\n",
    "            w += [' '.join(words[i:i + gram])]\n",
    "        return w\n",
    "    if stop_words:\n",
    "        sw = stopwords.words('english')\n",
    "        words = [word for word in words if word not in sw]\n",
    "    if stem:\n",
    "        stemmer = PorterStemmer()\n",
    "        words = [stemmer.stem(word) for word in words]   \n",
    "    return words\n",
    "\n",
    "\n",
    "class TweetClassifier(object):\n",
    "    def __init__(self, df_train, method = 'tf-idf'):\n",
    "        self.tweets, self.labels = df_train['Tweet'], df_train['Sentiment']\n",
    "        self.method = method\n",
    "\n",
    "    def train(self):\n",
    "        self.calc_TF_and_IDF()\n",
    "        if self.method == 'tf-idf':\n",
    "            self.calc_TF_IDF()\n",
    "        else:\n",
    "            self.calc_prob()\n",
    "\n",
    "    def calc_prob(self):\n",
    "        self.prob_depressive = dict()\n",
    "        self.prob_positive = dict()\n",
    "        for word in self.tf_depressive:\n",
    "            self.prob_depressive[word] = (self.tf_depressive[word] + 1) / (self.depressive_words + \\\n",
    "                                                                len(list(self.tf_depressive.keys())))\n",
    "        for word in self.tf_positive:\n",
    "            self.prob_positive[word] = (self.tf_positive[word] + 1) / (self.positive_words + \\\n",
    "                                                                len(list(self.tf_positive.keys())))\n",
    "        self.prob_depressive_tweet, self.prob_positive_tweet = self.depressive_tweets / self.total_tweets, self.positive_tweets / self.total_tweets \n",
    "\n",
    "\n",
    "    def calc_TF_and_IDF(self):\n",
    "        noOfMessages = self.tweets.shape[0]\n",
    "        self.depressive_tweets, self.positive_tweets = self.labels.value_counts()[0], self.labels.value_counts()[1]\n",
    "        self.total_tweets = self.depressive_tweets + self.positive_tweets\n",
    "        self.depressive_words = 0\n",
    "        self.positive_words = 0\n",
    "        self.tf_depressive = dict()\n",
    "        self.tf_positive = dict()\n",
    "        self.idf_depressive = dict()\n",
    "        self.idf_positive = dict()\n",
    "        for i in range(noOfMessages):\n",
    "            message_processed = process_message(self.tweets.iloc[i])\n",
    "            count = list() \n",
    "            for word in message_processed:\n",
    "                if self.labels.iloc[i]:\n",
    "                    self.tf_depressive[word] = self.tf_depressive.get(word, 0) + 1\n",
    "                    self.depressive_words += 1\n",
    "                else:\n",
    "                    self.tf_positive[word] = self.tf_positive.get(word, 0) + 1\n",
    "                    self.positive_words += 1\n",
    "                if word not in count:\n",
    "                    count += [word]\n",
    "            for word in count:\n",
    "                if self.labels.iloc[i]:\n",
    "                    self.idf_depressive[word] = self.idf_depressive.get(word, 0) + 1\n",
    "                else:\n",
    "                    self.idf_positive[word] = self.idf_positive.get(word, 0) + 1\n",
    "\n",
    "    def calc_TF_IDF(self):\n",
    "        self.prob_depressive = dict()\n",
    "        self.prob_positive = dict()\n",
    "        self.sum_tf_idf_depressive = 0\n",
    "        self.sum_tf_idf_positive = 0\n",
    "        for word in self.tf_depressive:\n",
    "            self.prob_depressive[word] = (self.tf_depressive[word]) * log((self.depressive_tweets + self.positive_tweets) \\\n",
    "                                                          / (self.idf_depressive[word] + self.idf_positive.get(word, 0)))\n",
    "            self.sum_tf_idf_depressive += self.prob_depressive[word]\n",
    "        for word in self.tf_depressive:\n",
    "            self.prob_depressive[word] = (self.prob_depressive[word] + 1) / (self.sum_tf_idf_depressive + len(list(self.prob_depressive.keys())))\n",
    "            \n",
    "        for word in self.tf_positive:\n",
    "            self.prob_positive[word] = (self.tf_positive[word]) * log((self.depressive_tweets + self.positive_tweets) \\\n",
    "                                                          / (self.idf_depressive.get(word, 0) + self.idf_positive[word]))\n",
    "            self.sum_tf_idf_positive += self.prob_positive[word]\n",
    "        for word in self.tf_positive:\n",
    "            self.prob_positive[word] = (self.prob_positive[word] + 1) / (self.sum_tf_idf_positive + len(list(self.prob_positive.keys())))\n",
    "            \n",
    "    \n",
    "        self.prob_depressive_tweet, self.prob_positive_tweet = self.depressive_tweets / self.total_tweets, self.positive_tweets / self.total_tweets \n",
    "                    \n",
    "    def classify(self, processed_message):\n",
    "        pDepressive, pPositive = 0, 0\n",
    "        for word in processed_message:                \n",
    "            if word in self.prob_depressive:\n",
    "                pDepressive += log(self.prob_depressive[word])\n",
    "            else:\n",
    "                if self.method == 'tf-idf':\n",
    "                    pDepressive -= log(self.sum_tf_idf_depressive + len(list(self.prob_depressive.keys())))\n",
    "                else:\n",
    "                    pDepressive -= log(self.depressive_words + len(list(self.prob_depressive.keys())))\n",
    "            if word in self.prob_positive:\n",
    "                pPositive += log(self.prob_positive[word])\n",
    "            else:\n",
    "                if self.method == 'tf-idf':\n",
    "                    pPositive -= log(self.sum_tf_idf_positive + len(list(self.prob_positive.keys()))) \n",
    "                else:\n",
    "                    pPositive -= log(self.positive_words + len(list(self.prob_positive.keys())))\n",
    "            pDepressive += log(self.prob_depressive_tweet)\n",
    "            pPositive += log(self.prob_positive_tweet)\n",
    "        return pDepressive >= pPositive\n",
    "    \n",
    "    def predict(self, df_test):\n",
    "        result = dict()\n",
    "        for (i, message) in enumerate(df_test):\n",
    "            processed_message = process_message(message)\n",
    "            result[i] = int(self.classify(processed_message))\n",
    "        return result  \n",
    "    \n"
   ]
  },
  {
   "cell_type": "code",
   "execution_count": null,
   "metadata": {
    "id": "EgZQuVrJ4eG_"
   },
   "outputs": [],
   "source": [
    "def metrics(labels, predictions):\n",
    "    true_pos, true_neg, false_pos, false_neg = 0, 0, 0, 0\n",
    "    for i in range(len(labels)):\n",
    "        true_pos += int(labels.iloc[i] == 1 and predictions[i] == 1)\n",
    "        true_neg += int(labels.iloc[i] == 0 and predictions[i] == 0)\n",
    "        false_pos += int(labels.iloc[i] == 0 and predictions[i] == 1)\n",
    "        false_neg += int(labels.iloc[i] == 1 and predictions[i] == 0)\n",
    "    \n",
    "    try:\n",
    "        precision = true_pos / (true_pos + false_pos)\n",
    "    except ZeroDivisionError:\n",
    "        precision = 0\n",
    "    try:    \n",
    "        recall = true_pos / (true_pos + false_neg)\n",
    "    except ZeroDivisionError:\n",
    "        recall = 0\n",
    "    try:\n",
    "        Fscore = 2 * precision * recall / (precision + recall)\n",
    "    except ZeroDivisionError:\n",
    "        Fscore = 0\n",
    "        \n",
    "    try:\n",
    "        accuracy = (true_pos + true_neg) / (true_pos + true_neg + false_pos + false_neg)\n",
    "    except ZeroDivisionError:\n",
    "        accuracy = 0\n",
    "        \n",
    "    print(\"Precision: \", precision)\n",
    "    print(\"Recall: \", recall)\n",
    "    print(\"F-score: \", Fscore)\n",
    "    print(\"Accuracy: \", accuracy)"
   ]
  },
  {
   "cell_type": "markdown",
   "metadata": {
    "id": "xDgi3reK4eG_"
   },
   "source": [
    "#### TF-IDF Performance Metrics:"
   ]
  },
  {
   "cell_type": "code",
   "execution_count": null,
   "metadata": {
    "id": "9RFiubkx4eG_",
    "outputId": "0b103de4-0740-4175-ac29-e070884fabf5"
   },
   "outputs": [
    {
     "name": "stdout",
     "output_type": "stream",
     "text": [
      "Precision:  0.9334532374100719\n",
      "Recall:  0.7178423236514523\n",
      "F-score:  0.8115715402658328\n",
      "Accuracy:  0.8202833706189411\n"
     ]
    }
   ],
   "source": [
    "sc_tf_idf = TweetClassifier(df_train, 'tf-idf')\n",
    "sc_tf_idf.train()\n",
    "preds_tf_idf = sc_tf_idf.predict(df_test['Tweet'])\n",
    "metrics(df_test['Sentiment'], preds_tf_idf)"
   ]
  },
  {
   "cell_type": "markdown",
   "metadata": {
    "id": "INsJrgem4eHA"
   },
   "source": [
    "#### BOW Performance Metrics:"
   ]
  },
  {
   "cell_type": "code",
   "execution_count": null,
   "metadata": {
    "id": "dph3LiTk4eHA",
    "outputId": "b12892c0-ac66-48a6-82f1-a79e26563a3e"
   },
   "outputs": [
    {
     "name": "stdout",
     "output_type": "stream",
     "text": [
      "Precision:  0.9402985074626866\n",
      "Recall:  0.6099585062240664\n",
      "F-score:  0.7399328859060403\n",
      "Accuracy:  0.7688292319164802\n"
     ]
    }
   ],
   "source": [
    "sc_bow = TweetClassifier(df_train, 'bow')\n",
    "sc_bow.train()\n",
    "preds_bow = sc_bow.predict(df_test['Tweet'])\n",
    "metrics(df_test['Sentiment'], preds_bow)"
   ]
  },
  {
   "cell_type": "markdown",
   "metadata": {
    "id": "zOvtzKck4eHA"
   },
   "source": [
    "#### Predictions with TF-IDF"
   ]
  },
  {
   "cell_type": "markdown",
   "metadata": {
    "id": "jxF66x2j4eHA"
   },
   "source": [
    "##### Depressive Tweets"
   ]
  },
  {
   "cell_type": "code",
   "execution_count": null,
   "metadata": {
    "id": "8gwdEnAz4eHA",
    "outputId": "af417bc5-15d7-4c5c-acf0-91fa59356381"
   },
   "outputs": [
    {
     "data": {
      "text/plain": [
       "True"
      ]
     },
     "execution_count": 42,
     "metadata": {
      "tags": []
     },
     "output_type": "execute_result"
    }
   ],
   "source": [
    "pm = clean_tweets('Lately I have been feeling unsure of myself as a person & an artist')\n",
    "sc_tf_idf.classify(pm)"
   ]
  },
  {
   "cell_type": "code",
   "execution_count": null,
   "metadata": {
    "id": "3ChSZ3vK4eHB",
    "outputId": "29116151-a7be-49a6-9700-0f036ef60de9"
   },
   "outputs": [
    {
     "data": {
      "text/plain": [
       "True"
      ]
     },
     "execution_count": 43,
     "metadata": {
      "tags": []
     },
     "output_type": "execute_result"
    }
   ],
   "source": [
    "pm = clean_tweets('Extreme sadness, lack of energy, hopelessness')\n",
    "sc_tf_idf.classify(pm)"
   ]
  },
  {
   "cell_type": "code",
   "execution_count": null,
   "metadata": {
    "id": "KkcwOqb_4eHB",
    "outputId": "7858f775-6e33-418b-a797-3ccbb4487fed"
   },
   "outputs": [
    {
     "data": {
      "text/plain": [
       "True"
      ]
     },
     "execution_count": 44,
     "metadata": {
      "tags": []
     },
     "output_type": "execute_result"
    }
   ],
   "source": [
    "pm = clean_tweets('Hi hello depression and anxiety are the worst')\n",
    "sc_tf_idf.classify(pm)"
   ]
  },
  {
   "cell_type": "markdown",
   "metadata": {
    "id": "aWfMo84E4eHB"
   },
   "source": [
    "##### Positive Tweets"
   ]
  },
  {
   "cell_type": "code",
   "execution_count": null,
   "metadata": {
    "id": "nLC79dUw4eHB",
    "outputId": "879444c4-7d4c-4c14-bb04-8feb0e3b63a1"
   },
   "outputs": [
    {
     "data": {
      "text/plain": [
       "True"
      ]
     },
     "execution_count": 45,
     "metadata": {
      "tags": []
     },
     "output_type": "execute_result"
    }
   ],
   "source": [
    "pm = clean_tweets('Loving how me and my lovely partner is talking about what we want.')\n",
    "sc_tf_idf.classify(pm)"
   ]
  },
  {
   "cell_type": "code",
   "execution_count": null,
   "metadata": {
    "id": "1PWaEs9L4eHC",
    "outputId": "1d081b81-3655-4390-9c20-c889bd342c3d"
   },
   "outputs": [
    {
     "data": {
      "text/plain": [
       "False"
      ]
     },
     "execution_count": 46,
     "metadata": {
      "tags": []
     },
     "output_type": "execute_result"
    }
   ],
   "source": [
    "pm = 'I am happy'\n",
    "sc_tf_idf.classify(pm)"
   ]
  },
  {
   "cell_type": "code",
   "execution_count": null,
   "metadata": {
    "id": "UJwldRdL4eHC",
    "outputId": "f102324d-80a5-4591-bd92-792a6f687740"
   },
   "outputs": [
    {
     "data": {
      "text/plain": [
       "True"
      ]
     },
     "execution_count": 47,
     "metadata": {
      "tags": []
     },
     "output_type": "execute_result"
    }
   ],
   "source": [
    "pm = clean_tweets('Very rewarding when a patient hugs you and tells you they feel great after changing the diet and daily habits')\n",
    "sc_tf_idf.classify(pm)"
   ]
  },
  {
   "cell_type": "markdown",
   "metadata": {
    "id": "Tat3PeZg4eHC"
   },
   "source": [
    "#### Predictions with Bag-of-Words (BOW)"
   ]
  },
  {
   "cell_type": "markdown",
   "metadata": {
    "id": "kCusQpvl4eHC"
   },
   "source": [
    "##### Depressive tweets"
   ]
  },
  {
   "cell_type": "code",
   "execution_count": null,
   "metadata": {
    "id": "YUnDEKez4eHD",
    "outputId": "6c89ba26-e641-48a3-a8c9-dc2b63db0347"
   },
   "outputs": [
    {
     "data": {
      "text/plain": [
       "True"
      ]
     },
     "execution_count": 48,
     "metadata": {
      "tags": []
     },
     "output_type": "execute_result"
    }
   ],
   "source": [
    "pm = clean_tweets('Hi hello depression and anxiety are the worst')\n",
    "sc_bow.classify(pm)"
   ]
  },
  {
   "cell_type": "code",
   "execution_count": null,
   "metadata": {
    "id": "LWPtg6xH4eHE",
    "outputId": "97b27445-cf08-4b43-fe29-7147499a0ba4"
   },
   "outputs": [
    {
     "data": {
      "text/plain": [
       "True"
      ]
     },
     "execution_count": 49,
     "metadata": {
      "tags": []
     },
     "output_type": "execute_result"
    }
   ],
   "source": [
    "pm = clean_tweets('My depression will not let me work out')\n",
    "sc_bow.classify(pm)"
   ]
  },
  {
   "cell_type": "code",
   "execution_count": null,
   "metadata": {
    "id": "58tlo4kD4eHF",
    "outputId": "9a7a54cb-9893-434a-e11e-b7a0b48912fe"
   },
   "outputs": [
    {
     "data": {
      "text/plain": [
       "True"
      ]
     },
     "execution_count": 50,
     "metadata": {
      "tags": []
     },
     "output_type": "execute_result"
    }
   ],
   "source": [
    "pm = clean_tweets('Feeling down...')\n",
    "sc_bow.classify(pm)"
   ]
  },
  {
   "cell_type": "markdown",
   "metadata": {
    "id": "D5wN_sU54eHH"
   },
   "source": [
    "##### Positive Tweets"
   ]
  },
  {
   "cell_type": "code",
   "execution_count": null,
   "metadata": {
    "id": "qKO2DoFi4eHI",
    "outputId": "85c5d086-e913-4dcd-e350-68dbe32d5371"
   },
   "outputs": [
    {
     "data": {
      "text/plain": [
       "True"
      ]
     },
     "execution_count": 51,
     "metadata": {
      "tags": []
     },
     "output_type": "execute_result"
    }
   ],
   "source": [
    "pm = clean_tweets('Loving how me and my lovely partner is talking about what we want.')\n",
    "sc_bow.classify(pm)"
   ]
  },
  {
   "cell_type": "code",
   "execution_count": null,
   "metadata": {
    "id": "KM8OE7sP4eHJ",
    "outputId": "8141e022-d1da-44f9-ab60-923b478bba4d"
   },
   "outputs": [
    {
     "data": {
      "text/plain": [
       "True"
      ]
     },
     "execution_count": 52,
     "metadata": {
      "tags": []
     },
     "output_type": "execute_result"
    }
   ],
   "source": [
    "pm = clean_tweets('Happy Thursday everyone. Thought today was Wednesday so super happy tomorrow is Friday yayyyyy')\n",
    "sc_bow.classify(pm)"
   ]
  },
  {
   "cell_type": "code",
   "execution_count": null,
   "metadata": {
    "id": "5JYLggjO4eHL",
    "outputId": "b5c0347b-b803-4868-d70d-3e1dbc7d2ac9"
   },
   "outputs": [
    {
     "data": {
      "text/plain": [
       "True"
      ]
     },
     "execution_count": 53,
     "metadata": {
      "tags": []
     },
     "output_type": "execute_result"
    }
   ],
   "source": [
    "pm = clean_tweets('I am Happy')\n",
    "sc_bow.classify(pm)"
   ]
  },
  {
   "cell_type": "markdown",
   "metadata": {
    "id": "5nf76Pkd4eHL"
   },
   "source": [
    "### Model - 3 : CNN + LSTM\n"
   ]
  },
  {
   "cell_type": "markdown",
   "metadata": {
    "id": "2jEYoNiO4eHL"
   },
   "source": [
    "This model takes input sentences and replaces them with their embeddings, then runs the new embedding vector through a CNN layer. CNN learns some structure from the sequential data and then passes it into an LSTM layer. The output of the LSTM layer is then fed into a standard Dense layer for prediction."
   ]
  },
  {
   "cell_type": "markdown",
   "metadata": {
    "id": "CarnM2ZJ4eHM"
   },
   "source": [
    "#### Hyperparameters Tuning:\n"
   ]
  },
  {
   "cell_type": "code",
   "execution_count": null,
   "metadata": {
    "id": "yLvoAnw04eHM"
   },
   "outputs": [],
   "source": [
    "model = Sequential()\n",
    "\n",
    "# Embedding layer\n",
    "model.add(Embedding(len(embedding_matrix), embed_dim, weights=[embedding_matrix], \n",
    "                            input_length=max_seq_length, trainable=False))\n",
    "\n",
    "# Convolutional Layer\n",
    "model.add(Conv1D(filters=32, kernel_size=3, padding='same', activation='relu'))\n",
    "model.add(MaxPooling1D(pool_size=2))\n",
    "model.add(Dropout(0.2))\n",
    "\n",
    "# LSTM Layer\n",
    "model.add(Bidirectional(LSTM(units=200, return_sequences=True)))\n",
    "model.add(Bidirectional(LSTM(units=200, return_sequences=False)))\n",
    "model.add(Dropout(0.4))\n",
    "model.add(Dense(1, activation='sigmoid'))"
   ]
  },
  {
   "cell_type": "markdown",
   "metadata": {
    "id": "v1w4NnWO4eHM"
   },
   "source": [
    "#### Model Compilation:\n",
    "#### Performance Metrics considered are: Accuracy, Precision and Recall"
   ]
  },
  {
   "cell_type": "code",
   "execution_count": null,
   "metadata": {
    "id": "skRxRpKg4eHN",
    "outputId": "12ad7cf7-1d94-44ec-fec9-9223556ab04e"
   },
   "outputs": [
    {
     "name": "stdout",
     "output_type": "stream",
     "text": [
      "Model: \"sequential\"\n",
      "_________________________________________________________________\n",
      "Layer (type)                 Output Shape              Param #   \n",
      "=================================================================\n",
      "embedding (Embedding)        (None, 140, 300)          3378600   \n",
      "_________________________________________________________________\n",
      "conv1d (Conv1D)              (None, 140, 32)           28832     \n",
      "_________________________________________________________________\n",
      "max_pooling1d (MaxPooling1D) (None, 70, 32)            0         \n",
      "_________________________________________________________________\n",
      "dropout (Dropout)            (None, 70, 32)            0         \n",
      "_________________________________________________________________\n",
      "bidirectional (Bidirectional (None, 70, 400)           372800    \n",
      "_________________________________________________________________\n",
      "bidirectional_1 (Bidirection (None, 400)               961600    \n",
      "_________________________________________________________________\n",
      "dropout_1 (Dropout)          (None, 400)               0         \n",
      "_________________________________________________________________\n",
      "dense (Dense)                (None, 1)                 401       \n",
      "=================================================================\n",
      "Total params: 4,742,233\n",
      "Trainable params: 1,363,633\n",
      "Non-trainable params: 3,378,600\n",
      "_________________________________________________________________\n",
      "None\n"
     ]
    }
   ],
   "source": [
    "model.compile(loss='binary_crossentropy', optimizer='adam', metrics=(['acc'],\n",
    "             tf.keras.metrics.Precision(), tf.keras.metrics.Recall()))\n",
    "print(model.summary())"
   ]
  },
  {
   "cell_type": "markdown",
   "metadata": {
    "id": "suPo0z4l4eHO"
   },
   "source": [
    "#### Model Training:"
   ]
  },
  {
   "cell_type": "code",
   "execution_count": null,
   "metadata": {
    "id": "0Sej-yuS4eHP",
    "outputId": "62d7261a-ad94-4edb-effc-f6d587c5b686"
   },
   "outputs": [
    {
     "name": "stdout",
     "output_type": "stream",
     "text": [
      "Epoch 1/10\n",
      "99/99 - 37s - loss: 0.2975 - acc: 0.8689 - precision: 0.8728 - recall: 0.8935 - val_loss: 0.1826 - val_acc: 0.9249 - val_precision: 0.9817 - val_recall: 0.8808\n",
      "Epoch 2/10\n",
      "99/99 - 31s - loss: 0.1543 - acc: 0.9443 - precision: 0.9708 - recall: 0.9273 - val_loss: 0.1618 - val_acc: 0.9378 - val_precision: 0.9513 - val_recall: 0.9356\n",
      "Epoch 3/10\n",
      "99/99 - 34s - loss: 0.1012 - acc: 0.9658 - precision: 0.9835 - recall: 0.9543 - val_loss: 0.1759 - val_acc: 0.9416 - val_precision: 0.9618 - val_recall: 0.9315\n",
      "Epoch 4/10\n",
      "99/99 - 31s - loss: 0.0748 - acc: 0.9732 - precision: 0.9851 - recall: 0.9662 - val_loss: 0.1691 - val_acc: 0.9469 - val_precision: 0.9728 - val_recall: 0.9301\n"
     ]
    }
   ],
   "source": [
    "early_stop = EarlyStopping(monitor='val_loss', patience=2)\n",
    "\n",
    "hist = model.fit(data_train, labels_train, \\\n",
    "        validation_data=(data_val, labels_val), \\\n",
    "        epochs=total_epochs, batch_size=40, shuffle=True, \\\n",
    "        callbacks=[early_stop], verbose=2)"
   ]
  },
  {
   "cell_type": "markdown",
   "metadata": {
    "id": "kpPAKwSW4eHP"
   },
   "source": [
    "#### Model Plots:"
   ]
  },
  {
   "cell_type": "code",
   "execution_count": null,
   "metadata": {
    "id": "keQ1fONj4eHQ",
    "outputId": "fcb053d8-e734-4c87-d7e0-759f38ef1169"
   },
   "outputs": [
    {
     "data": {
      "image/png": "[encoded data removed]",
      "text/plain": [
       "<Figure size 432x288 with 1 Axes>"
      ]
     },
     "metadata": {
      "tags": []
     },
     "output_type": "display_data"
    }
   ],
   "source": [
    "plt.plot(hist.history['acc'])\n",
    "plt.plot(hist.history['val_acc'])\n",
    "plt.title('model accuracy')\n",
    "plt.ylabel('accuracy')\n",
    "plt.xlabel('epoch')\n",
    "plt.legend(['train', 'test'], loc='upper left')\n",
    "plt.show()"
   ]
  },
  {
   "cell_type": "code",
   "execution_count": null,
   "metadata": {
    "id": "k4jWOq7X4eHQ",
    "outputId": "6a00d83c-ace3-4552-f2fe-ecbd5661571b"
   },
   "outputs": [
    {
     "data": {
      "image/png": "[encoded data removed]",
      "text/plain": [
       "<Figure size 432x288 with 1 Axes>"
      ]
     },
     "metadata": {
      "tags": []
     },
     "output_type": "display_data"
    }
   ],
   "source": [
    "plt.plot(hist.history['loss'])\n",
    "plt.plot(hist.history['val_loss'])\n",
    "plt.title('model loss')\n",
    "plt.ylabel('loss')\n",
    "plt.xlabel('epoch')\n",
    "plt.legend(['train', 'test'], loc='upper left')\n",
    "plt.show()"
   ]
  },
  {
   "cell_type": "code",
   "execution_count": null,
   "metadata": {
    "id": "KdVzYE3k4eHR",
    "outputId": "013c98b7-98ae-4727-a08d-02d447d5a3e9"
   },
   "outputs": [
    {
     "data": {
      "image/png": "[encoded data removed]",
      "text/plain": [
       "<Figure size 432x288 with 1 Axes>"
      ]
     },
     "metadata": {
      "tags": []
     },
     "output_type": "display_data"
    }
   ],
   "source": [
    "plt.plot(hist.history['precision'])\n",
    "plt.plot(hist.history['val_precision'])\n",
    "plt.title('model precision')\n",
    "plt.ylabel('Precision')\n",
    "plt.xlabel('epoch')\n",
    "plt.legend(['train', 'test'], loc='upper left')\n",
    "plt.show()"
   ]
  },
  {
   "cell_type": "code",
   "execution_count": null,
   "metadata": {
    "id": "_n3KHWY94eHR",
    "outputId": "63e9dca8-e48c-422f-d5d9-55baeb5ba162"
   },
   "outputs": [
    {
     "data": {
      "image/png": "[encoded data removed]",
      "text/plain": [
       "<Figure size 432x288 with 1 Axes>"
      ]
     },
     "metadata": {
      "tags": []
     },
     "output_type": "display_data"
    }
   ],
   "source": [
    "plt.plot(hist.history['recall'])\n",
    "plt.plot(hist.history['val_recall'])\n",
    "plt.title('model Recall')\n",
    "plt.ylabel('Recall')\n",
    "plt.xlabel('epoch')\n",
    "plt.legend(['train', 'test'], loc='upper left')\n",
    "plt.show()"
   ]
  },
  {
   "cell_type": "markdown",
   "metadata": {
    "id": "QOobibAg4eHR"
   },
   "source": [
    "#### Model Performance Metrics:"
   ]
  },
  {
   "cell_type": "code",
   "execution_count": null,
   "metadata": {
    "id": "QvQIHNoV4eHR",
    "outputId": "a39b1b29-417c-4e1c-e266-c8a2379f3c90"
   },
   "outputs": [
    {
     "name": "stdout",
     "output_type": "stream",
     "text": [
      "Accuracy: 92.79%\n"
     ]
    }
   ],
   "source": [
    "labels_pred = model.predict(data_test)\n",
    "labels_pred = np.round(labels_pred.flatten())\n",
    "accuracy = accuracy_score(labels_test, labels_pred)\n",
    "print(\"Accuracy: %.2f%%\" % (accuracy*100))"
   ]
  },
  {
   "cell_type": "code",
   "execution_count": null,
   "metadata": {
    "id": "B_z7DBlM4eHS",
    "outputId": "82235a96-5dce-4bd3-ffdf-7a0da0e90ea6"
   },
   "outputs": [
    {
     "name": "stdout",
     "output_type": "stream",
     "text": [
      "              precision    recall  f1-score   support\n",
      "\n",
      "           0       0.88      0.96      0.92       588\n",
      "           1       0.97      0.90      0.93       730\n",
      "\n",
      "    accuracy                           0.93      1318\n",
      "   macro avg       0.93      0.93      0.93      1318\n",
      "weighted avg       0.93      0.93      0.93      1318\n",
      "\n"
     ]
    }
   ],
   "source": [
    "print(classification_report(labels_test, labels_pred))"
   ]
  },
  {
   "cell_type": "code",
   "execution_count": null,
   "metadata": {
    "id": "iHd_vDtO4eHS",
    "outputId": "ca523bad-4523-4742-bd36-8a5b70063769"
   },
   "outputs": [
    {
     "data": {
      "text/plain": [
       "array([[0],\n",
       "       [0],\n",
       "       [1],\n",
       "       [0],\n",
       "       [1],\n",
       "       [1],\n",
       "       [1],\n",
       "       [0],\n",
       "       [0],\n",
       "       [0]], dtype=int32)"
      ]
     },
     "execution_count": 63,
     "metadata": {
      "tags": []
     },
     "output_type": "execute_result"
    }
   ],
   "source": [
    "labels_pred = (model.predict(data_test) > 0.5).astype(\"int32\")\n",
    "labels_pred[:10]"
   ]
  },
  {
   "cell_type": "code",
   "execution_count": null,
   "metadata": {
    "id": "_5zG1TDN4eHS",
    "outputId": "e1212d5b-538a-45db-ef5c-48af0d09f780"
   },
   "outputs": [
    {
     "data": {
      "text/plain": [
       "array([0, 0, 1, 0, 1, 1, 1, 0, 0, 0])"
      ]
     },
     "execution_count": 64,
     "metadata": {
      "tags": []
     },
     "output_type": "execute_result"
    }
   ],
   "source": [
    "labels_test[:10]"
   ]
  },
  {
   "cell_type": "markdown",
   "metadata": {
    "id": "NE-2XF694eHS"
   },
   "source": [
    "#### Confusion Matrix:"
   ]
  },
  {
   "cell_type": "code",
   "execution_count": null,
   "metadata": {
    "id": "W9XjRyNc4eHT"
   },
   "outputs": [],
   "source": [
    "def plot_cm(y_true, y_pred, title, figsize=(5,5)):\n",
    "    cm = confusion_matrix(y_true, y_pred, labels=np.unique(y_true)[::-1])\n",
    "    cm_sum = np.sum(cm, axis=1, keepdims=True)\n",
    "    cm_perc = cm / cm_sum.astype(float) * 100\n",
    "    annot = np.empty_like(cm).astype(str)\n",
    "    nrows, ncols = cm.shape\n",
    "    for i in range(nrows):\n",
    "        for j in range(ncols):\n",
    "            c = cm[i, j]\n",
    "            p = cm_perc[i, j]\n",
    "            if i == j:\n",
    "                s = cm_sum[i]\n",
    "                annot[i, j] = '%.1f%%\\n%d/%d' % (p, c, s)\n",
    "            elif c == 0:\n",
    "                annot[i, j] = ''\n",
    "            else:\n",
    "                annot[i, j] = '%.1f%%\\n%d' % (p, c)\n",
    "    cm = pd.DataFrame(cm, index=np.unique(y_true)[::-1], columns=np.unique(y_true)[::-1])\n",
    "    cm.index.name = 'Actual'\n",
    "    cm.columns.name = 'Predicted'\n",
    "    fig, ax = plt.subplots(figsize=figsize)\n",
    "    plt.title(title)\n",
    "    sns.heatmap(cm, cmap= \"mako\", annot=annot, fmt='', ax=ax)"
   ]
  },
  {
   "cell_type": "code",
   "execution_count": null,
   "metadata": {
    "id": "tfJyUY3j4eHT",
    "outputId": "328bf0bc-38cf-4124-8d15-1863db4158c2"
   },
   "outputs": [
    {
     "data": {
      "image/png": "[encoded data removed]",
      "text/plain": [
       "<Figure size 504x504 with 2 Axes>"
      ]
     },
     "metadata": {
      "tags": []
     },
     "output_type": "display_data"
    }
   ],
   "source": [
    "plot_cm(labels_pred, labels_test, 'Confusion matrix for LSTM+CNN model', figsize=(7,7))"
   ]
  },
  {
   "cell_type": "markdown",
   "metadata": {
    "id": "2o5ebXWf4eHT"
   },
   "source": [
    "#### Model Evaluation:"
   ]
  },
  {
   "cell_type": "code",
   "execution_count": null,
   "metadata": {
    "id": "GNBtdk074eHT",
    "outputId": "0068fb03-4ed2-40a1-d8d8-d3006a4306ed"
   },
   "outputs": [
    {
     "name": "stdout",
     "output_type": "stream",
     "text": [
      "Tweet:  my parents undeserving le cuz believed kids would fix dysfunctional relatio 8lewaspoz6\n",
      "The category is =  [0] implying that it is not a Depression related tweet \n",
      "\n",
      "Tweet:  breathing normally difficulty falling asleep depression bipolar disorder sleeping well ipxf0fc1n9\n",
      "The category is =  [1] implying that it is a Depression related tweet \n",
      "\n",
      "Tweet:  fentanyl depression respiration frs37kvwch\n",
      "The category is =  [0] implying that it is not a Depression related tweet \n",
      "\n",
      "Tweet:  tweeting uations nigeria give mental depression just check pages newspaper kidna\n",
      "The category is =  [1] implying that it is a Depression related tweet \n",
      "\n",
      "Tweet:  the sunshine state kids school since last october the states still closed need open rveexmaw5c\n",
      "The category is =  [1] implying that it is a Depression related tweet \n",
      "\n",
      "Tweet:  ac rding survey i take class rapeutic modal best su existentialist i c bkwlswldm4\n",
      "The category is =  [1] implying that it is a Depression related tweet \n",
      "\n",
      "Tweet:  when yo girl think dont wan na talk cuz got hoes really got depression f8vhwh23m\n",
      "The category is =  [0] implying that it is not a Depression related tweet \n",
      "\n",
      "Tweet:  please reply u one rs may want forgive i currently experiencing disassociation depress\n",
      "The category is =  [0] implying that it is not a Depression related tweet \n",
      "\n",
      "Tweet:  depression obsession dont mix wel\n",
      "The category is =  [0] implying that it is not a Depression related tweet \n",
      "\n"
     ]
    }
   ],
   "source": [
    "for i,j in zip(X_depressive[1:10], labels_pred[1:10]):\n",
    "    print(\"Tweet: \", i)\n",
    "    if j==1:\n",
    "        print(\"The category is = \", j, \"implying that it is a Depression related tweet \\n\")\n",
    "    else:\n",
    "        print(\"The category is = \", j, \"implying that it is not a Depression related tweet \\n\")"
   ]
  },
  {
   "cell_type": "markdown",
   "metadata": {
    "id": "FP2wDb-54eHU"
   },
   "source": [
    "### Model - 3 : LSTM with GLoVE"
   ]
  },
  {
   "cell_type": "code",
   "execution_count": null,
   "metadata": {
    "id": "MGgGSks-4eHU",
    "outputId": "64b02fb1-844d-43c4-fe51-bad515372391"
   },
   "outputs": [
    {
     "name": "stdout",
     "output_type": "stream",
     "text": [
      "<class 'pandas.core.frame.DataFrame'>\n",
      "RangeIndex: 3683 entries, 0 to 3682\n",
      "Data columns (total 7 columns):\n",
      " #   Column         Non-Null Count  Dtype              \n",
      "---  ------         --------------  -----              \n",
      " 0   Tweet          3683 non-null   object             \n",
      " 1   Time           3683 non-null   datetime64[ns, UTC]\n",
      " 2   User_Location  2377 non-null   object             \n",
      " 3   Sentiment      3683 non-null   int64              \n",
      " 4   Retweets       3683 non-null   bool               \n",
      " 5   polarity       3683 non-null   float64            \n",
      " 6   houroftweet    3683 non-null   int64              \n",
      "dtypes: bool(1), datetime64[ns, UTC](1), float64(1), int64(2), object(2)\n",
      "memory usage: 176.4+ KB\n"
     ]
    }
   ],
   "source": [
    "train = depressive_tweets_df\n",
    "test = random_tweets_df\n",
    "\n",
    "train = train.sample(frac=1).reset_index(drop=True)\n",
    "test = test.sample(frac=1).reset_index(drop=True)\n",
    "\n",
    "train.info()"
   ]
  },
  {
   "cell_type": "code",
   "execution_count": null,
   "metadata": {
    "id": "bHLtvhd64eHW",
    "outputId": "7cab75b1-cda0-47dd-cca8-323eb26603ac"
   },
   "outputs": [
    {
     "name": "stdout",
     "output_type": "stream",
     "text": [
      "<class 'pandas.core.frame.DataFrame'>\n",
      "RangeIndex: 3019 entries, 0 to 3018\n",
      "Data columns (total 4 columns):\n",
      " #   Column           Non-Null Count  Dtype \n",
      "---  ------           --------------  ----- \n",
      " 0   ItemID           3019 non-null   int64 \n",
      " 1   Sentiment        3019 non-null   int64 \n",
      " 2   SentimentSource  3019 non-null   object\n",
      " 3   SentimentText    3019 non-null   object\n",
      "dtypes: int64(2), object(2)\n",
      "memory usage: 94.5+ KB\n"
     ]
    }
   ],
   "source": [
    "test.info()"
   ]
  },
  {
   "cell_type": "code",
   "execution_count": null,
   "metadata": {
    "id": "uoRO99dP4eHa",
    "outputId": "259c9e98-f70c-4048-ad1b-57a9b8835d50"
   },
   "outputs": [
    {
     "name": "stdout",
     "output_type": "stream",
     "text": [
      "                                                text  \\\n",
      "0          Peak depression working Phoebe Bridgehard   \n",
      "1  @MPRnews Hester Ford died earlier month either...   \n",
      "2  @REALpunknews Shit I Guess My Depression Wasn ...   \n",
      "3  @RishiSinghani12 @cancell12board @anubha1812 @...   \n",
      "4  @LEAD_Coalition Please re-Tweet raise awarenes...   \n",
      "\n",
      "                       date                 location  target  retweet  \\\n",
      "0 2021-04-22 21:26:05+00:00                    miami       1    False   \n",
      "1 2021-04-25 14:29:20+00:00  Cannon Falls, Minnesota       1    False   \n",
      "2 2021-04-25 14:10:58+00:00                      NaN       1    False   \n",
      "3 2021-04-25 14:22:48+00:00                      NaN       1    False   \n",
      "4 2021-04-22 22:05:54+00:00               ☀️ chasing       1    False   \n",
      "\n",
      "   polarity  houroftweet  \n",
      "0  0.000000           21  \n",
      "1  0.033333           14  \n",
      "2 -0.200000           14  \n",
      "3  0.200000           14  \n",
      "4  0.000000           22  \n"
     ]
    },
    {
     "data": {
      "text/html": [
       "<div>\n",
       "<style scoped>\n",
       "    .dataframe tbody tr th:only-of-type {\n",
       "        vertical-align: middle;\n",
       "    }\n",
       "\n",
       "    .dataframe tbody tr th {\n",
       "        vertical-align: top;\n",
       "    }\n",
       "\n",
       "    .dataframe thead th {\n",
       "        text-align: right;\n",
       "    }\n",
       "</style>\n",
       "<table border=\"1\" class=\"dataframe\">\n",
       "  <thead>\n",
       "    <tr style=\"text-align: right;\">\n",
       "      <th></th>\n",
       "      <th>id</th>\n",
       "      <th>target</th>\n",
       "      <th>source</th>\n",
       "      <th>text</th>\n",
       "    </tr>\n",
       "  </thead>\n",
       "  <tbody>\n",
       "    <tr>\n",
       "      <th>0</th>\n",
       "      <td>3842</td>\n",
       "      <td>0</td>\n",
       "      <td>Sentiment140</td>\n",
       "      <td>just noticed that it's #UnfollowSunday , we a...</td>\n",
       "    </tr>\n",
       "    <tr>\n",
       "      <th>1</th>\n",
       "      <td>7408</td>\n",
       "      <td>0</td>\n",
       "      <td>Sentiment140</td>\n",
       "      <td>#iremember that smell of christmas morning..ne...</td>\n",
       "    </tr>\n",
       "    <tr>\n",
       "      <th>2</th>\n",
       "      <td>1944</td>\n",
       "      <td>0</td>\n",
       "      <td>Sentiment140</td>\n",
       "      <td>getting ready for school. after i print out t...</td>\n",
       "    </tr>\n",
       "    <tr>\n",
       "      <th>3</th>\n",
       "      <td>3194</td>\n",
       "      <td>0</td>\n",
       "      <td>Sentiment140</td>\n",
       "      <td>- Ok, how about just pray for mental clarity w...</td>\n",
       "    </tr>\n",
       "    <tr>\n",
       "      <th>4</th>\n",
       "      <td>5712</td>\n",
       "      <td>0</td>\n",
       "      <td>Sentiment140</td>\n",
       "      <td>#goodsex is when his intentional training of y...</td>\n",
       "    </tr>\n",
       "  </tbody>\n",
       "</table>\n",
       "</div>"
      ],
      "text/plain": [
       "     id  target        source  \\\n",
       "0  3842       0  Sentiment140   \n",
       "1  7408       0  Sentiment140   \n",
       "2  1944       0  Sentiment140   \n",
       "3  3194       0  Sentiment140   \n",
       "4  5712       0  Sentiment140   \n",
       "\n",
       "                                                text  \n",
       "0   just noticed that it's #UnfollowSunday , we a...  \n",
       "1  #iremember that smell of christmas morning..ne...  \n",
       "2   getting ready for school. after i print out t...  \n",
       "3  - Ok, how about just pray for mental clarity w...  \n",
       "4  #goodsex is when his intentional training of y...  "
      ]
     },
     "execution_count": 71,
     "metadata": {
      "tags": []
     },
     "output_type": "execute_result"
    }
   ],
   "source": [
    "train.columns = [\"text\", \"date\",\"location\",\"target\",\"retweet\",\"polarity\",\"houroftweet\"]\n",
    "print(train.head())\n",
    "\n",
    "test.columns = [\"id\", \"target\", \"source\", \"text\"]\n",
    "test.head()"
   ]
  },
  {
   "cell_type": "code",
   "execution_count": null,
   "metadata": {
    "id": "4iPkwPlT4eHb"
   },
   "outputs": [],
   "source": [
    "#save ID\n",
    "test_id = test['id']\n",
    "\n",
    "#drop from train and test\n",
    "columns = {'source'}\n",
    "test = test.drop(columns = columns)\n",
    "\n",
    "cols = {\"date\",\"location\",\"retweet\"}\n",
    "train = train.drop(columns = cols)"
   ]
  },
  {
   "cell_type": "code",
   "execution_count": null,
   "metadata": {
    "id": "6Gnjh6Pc4eHb",
    "outputId": "a8f37d45-ec5b-4bbf-93e7-2d9ab394872a"
   },
   "outputs": [
    {
     "name": "stdout",
     "output_type": "stream",
     "text": [
      "<class 'pandas.core.frame.DataFrame'>\n",
      "RangeIndex: 3019 entries, 0 to 3018\n",
      "Data columns (total 3 columns):\n",
      " #   Column  Non-Null Count  Dtype \n",
      "---  ------  --------------  ----- \n",
      " 0   id      3019 non-null   int64 \n",
      " 1   target  3019 non-null   int64 \n",
      " 2   text    3019 non-null   object\n",
      "dtypes: int64(2), object(1)\n",
      "memory usage: 70.9+ KB\n"
     ]
    }
   ],
   "source": [
    "test.info()"
   ]
  },
  {
   "cell_type": "code",
   "execution_count": null,
   "metadata": {
    "id": "swk3dHWm4eHc",
    "outputId": "01e71498-73c8-49ff-f635-351f5a5368be"
   },
   "outputs": [
    {
     "name": "stdout",
     "output_type": "stream",
     "text": [
      "<class 'pandas.core.frame.DataFrame'>\n",
      "RangeIndex: 3683 entries, 0 to 3682\n",
      "Data columns (total 2 columns):\n",
      " #   Column  Non-Null Count  Dtype \n",
      "---  ------  --------------  ----- \n",
      " 0   target  3683 non-null   int64 \n",
      " 1   text    3683 non-null   object\n",
      "dtypes: int64(1), object(1)\n",
      "memory usage: 57.7+ KB\n"
     ]
    }
   ],
   "source": [
    "train = train[[\"target\",\"text\"]]\n",
    "\n",
    "train['target'] = train.target.astype(int)\n",
    "\n",
    "train.info()"
   ]
  },
  {
   "cell_type": "code",
   "execution_count": null,
   "metadata": {
    "id": "zLq_fznY4eHe",
    "outputId": "570561d8-2a20-49b7-e373-d9b704bf25a7"
   },
   "outputs": [
    {
     "name": "stdout",
     "output_type": "stream",
     "text": [
      "There are 3683 rows in the train set\n",
      "There are 3019 rows in the test set\n"
     ]
    }
   ],
   "source": [
    "print('There are', len(train), 'rows in the train set')\n",
    "print('There are', len(test), 'rows in the test set')"
   ]
  },
  {
   "cell_type": "code",
   "execution_count": null,
   "metadata": {
    "id": "KL3jw_-I4eHe",
    "outputId": "29ae9ab9-8750-4fb1-e0c9-2f265140c5d7",
    "scrolled": true
   },
   "outputs": [
    {
     "name": "stdout",
     "output_type": "stream",
     "text": [
      "<class 'pandas.core.frame.DataFrame'>\n",
      "RangeIndex: 6702 entries, 0 to 6701\n",
      "Data columns (total 3 columns):\n",
      " #   Column  Non-Null Count  Dtype  \n",
      "---  ------  --------------  -----  \n",
      " 0   target  6702 non-null   int64  \n",
      " 1   text    6702 non-null   object \n",
      " 2   id      3019 non-null   float64\n",
      "dtypes: float64(1), int64(1), object(1)\n",
      "memory usage: 157.2+ KB\n"
     ]
    }
   ],
   "source": [
    "total = train.append(test)\n",
    "\n",
    "total = total.sample(frac=1).reset_index(drop=True)\n",
    "\n",
    "total.info()"
   ]
  },
  {
   "cell_type": "markdown",
   "metadata": {
    "id": "DpxKS6tX4eHf"
   },
   "source": [
    "#### Distribution of Target classes"
   ]
  },
  {
   "cell_type": "code",
   "execution_count": null,
   "metadata": {
    "id": "NIwYaQdO4eHf",
    "outputId": "3332ab7d-270c-4d5e-9063-1facc9ec107a"
   },
   "outputs": [
    {
     "data": {
      "image/png": "[encoded data removed]",
      "text/plain": [
       "<Figure size 720x360 with 1 Axes>"
      ]
     },
     "metadata": {
      "tags": []
     },
     "output_type": "display_data"
    }
   ],
   "source": [
    "import matplotlib.pyplot as plt\n",
    "plt.style.use('ggplot')   #for optimum aesthetics \n",
    "import seaborn as sns\n",
    "\n",
    "fig, ax = plt.subplots(figsize = (10, 5))\n",
    "\n",
    "graph1 = sns.countplot(x = 'target', data = total)\n",
    "\n",
    "plt.title('Distribution of Classification Groups')\n",
    "plt.show(graph1)\n"
   ]
  },
  {
   "cell_type": "markdown",
   "metadata": {
    "id": "DlvC-8Bq4eHf"
   },
   "source": [
    "#### Text Processing"
   ]
  },
  {
   "cell_type": "code",
   "execution_count": null,
   "metadata": {
    "id": "xq_sNDDW4eHf"
   },
   "outputs": [],
   "source": [
    "\n",
    "def remove_punctuation(x):\n",
    "    return x.translate(str.maketrans('', '', string.punctuation))\n",
    "\n",
    "def remove_stopwords(x):\n",
    "    return ' '.join([i for i in x.split() if i not in wordcloud.STOPWORDS])\n",
    "\n",
    "#remove words less than 4 \n",
    "def remove_less_than(x):\n",
    "    return ' '.join([i for i in x.split() if len(i) > 3])\n",
    "\n",
    "def remove_non_alphabet(x):\n",
    "    return ' '.join([i for i in x.split() if i.isalpha()])\n",
    "\n",
    "def strip_all_entities(x):\n",
    "    return ' '.join(re.sub(\"(@[A-Za-z0-9]+)|([^0-9A-Za-z \\t])|(\\w+:\\/\\/\\S+)\",\" \",x).split())\n",
    "\n",
    "def remove_hashtag(x):\n",
    "    return \" \".join(word.strip() for word in re.split('#|_', x))"
   ]
  },
  {
   "cell_type": "markdown",
   "metadata": {
    "id": "CZQ_Ofut4eHg"
   },
   "source": [
    "#### Spell Check"
   ]
  },
  {
   "cell_type": "code",
   "execution_count": null,
   "metadata": {
    "id": "BvWG8mJu4eHg",
    "outputId": "3fbcd1a1-e88d-46e7-b599-83e08a35820a"
   },
   "outputs": [
    {
     "data": {
      "text/plain": [
       "'Please spelcheck this sentence'"
      ]
     },
     "execution_count": 79,
     "metadata": {
      "tags": []
     },
     "output_type": "execute_result"
    }
   ],
   "source": [
    "from autocorrect import Speller \n",
    "\n",
    "#create function to spell check strings\n",
    "def spell_check(x):\n",
    "    spell = Speller(lang='en')\n",
    "    return \" \".join([spell(i) for i in x.split()])\n",
    "\n",
    "#spellcheck \n",
    "mispelled = 'Pleaze spelcheck this sentince'\n",
    "spell_check(mispelled)"
   ]
  },
  {
   "cell_type": "markdown",
   "metadata": {
    "id": "b36UsBks4eHg"
   },
   "source": [
    "#### Applying the Text Pre-Processing to the dataset "
   ]
  },
  {
   "cell_type": "code",
   "execution_count": null,
   "metadata": {
    "id": "tJCMuEd74eHg"
   },
   "outputs": [],
   "source": [
    "import string\n",
    "\n",
    "total['text'] = total['text'].apply(lambda x: x.lower())\n",
    "total['text'] = total['text'].apply(lambda x: re.sub(r'https?://\\S+|www\\.\\S+', '', x, flags = re.MULTILINE))\n",
    "total['text'] = total['text'].apply(lambda x: re.sub(r'http?://\\S+|www\\.\\S+', '', x, flags = re.MULTILINE))\n",
    "total['text'] = total['text'].apply(remove_punctuation)\n",
    "total['text'] = total['text'].apply(remove_stopwords)\n",
    "total['text'] = total['text'].apply(remove_less_than)\n",
    "total['text'] = total['text'].apply(remove_non_alphabet)\n",
    "total['text'] = total['text'].apply(remove_hashtag)\n",
    "#total['text'] = total['text'].apply(spell_check)    "
   ]
  },
  {
   "cell_type": "markdown",
   "metadata": {
    "id": "EaZGZlKz4eHh"
   },
   "source": [
    "#### Validating the expand_contractions function"
   ]
  },
  {
   "cell_type": "code",
   "execution_count": null,
   "metadata": {
    "id": "_DzIQYnu4eHh",
    "outputId": "411291e9-4497-44ab-cf65-53fbd7d5ef81"
   },
   "outputs": [
    {
     "data": {
      "text/plain": [
       "'cannot stop will not stop'"
      ]
     },
     "execution_count": 81,
     "metadata": {
      "tags": []
     },
     "output_type": "execute_result"
    }
   ],
   "source": [
    "expandContractions(\"can't stop won't stop\")"
   ]
  },
  {
   "cell_type": "code",
   "execution_count": null,
   "metadata": {
    "id": "x93j1Pkj4eHi"
   },
   "outputs": [],
   "source": [
    "total['text'] = total['text'].apply(expandContractions)"
   ]
  },
  {
   "cell_type": "markdown",
   "metadata": {
    "id": "0mX_D_MC4eHi"
   },
   "source": [
    "#### DATA PARTITION"
   ]
  },
  {
   "cell_type": "code",
   "execution_count": null,
   "metadata": {
    "id": "P370BFjB4eHi"
   },
   "outputs": [],
   "source": [
    "tweets = [tweet for tweet in total['text']]\n",
    "train = total[:len(train)]\n",
    "test = total[len(train):]"
   ]
  },
  {
   "cell_type": "code",
   "execution_count": null,
   "metadata": {
    "id": "aAk_UYSA4eHi",
    "outputId": "63fe6103-5ee6-45fa-ce34-23017c63168b"
   },
   "outputs": [
    {
     "name": "stdout",
     "output_type": "stream",
     "text": [
      "{'why': 1, 'are': 2, 'you': 3, 'so': 4, '@': 5, 'ing': 6, 'angry': 7, 'all': 8, 'the': 9, 'time': 10}\n"
     ]
    }
   ],
   "source": [
    "from keras.preprocessing.text import Tokenizer\n",
    "\n",
    "#Tokenize punctuation\n",
    "to_exclude = '*+-/()#?!%\\n[\\\\]{|}^_`~\\t'\n",
    "to_tokenize = '!\"#$&?:;<=>@'\n",
    "tokenizer = Tokenizer(filters = to_exclude)\n",
    "text = 'Why are you so %#@ing angry all the time?!'\n",
    "text = re.sub(r'(['+to_tokenize+'])', r' \\1 ', text)\n",
    "tokenizer.fit_on_texts([text])\n",
    "\n",
    "print(tokenizer.word_index)"
   ]
  },
  {
   "cell_type": "markdown",
   "metadata": {
    "id": "I-kdRdWy4eHj"
   },
   "source": [
    "#### Tokenization"
   ]
  },
  {
   "cell_type": "code",
   "execution_count": null,
   "metadata": {
    "id": "OvQVeP2F4eHj",
    "outputId": "02b838d2-b834-475e-e1a8-a26d67d652f2"
   },
   "outputs": [
    {
     "name": "stdout",
     "output_type": "stream",
     "text": [
      "Found 12399 unique tokens.\n",
      "Shape of data tensor: (6702, 31)\n",
      "Shape of label tensor: (3683,)\n"
     ]
    }
   ],
   "source": [
    "from keras.preprocessing.sequence import pad_sequences\n",
    "from keras import Input\n",
    "\n",
    "#defining tokenizer options\n",
    "tokenizer = Tokenizer()     \n",
    "tokenizer.fit_on_texts(tweets)\n",
    "sequences = tokenizer.texts_to_sequences(tweets)\n",
    "\n",
    "word_index = tokenizer.word_index\n",
    "print('Found %s unique tokens.' % len(word_index))\n",
    "\n",
    "data = pad_sequences(sequences)\n",
    "labels = train['target']\n",
    "print('Shape of data tensor:', data.shape)\n",
    "print('Shape of label tensor:', labels.shape)\n",
    "\n",
    "nlp_train = data[:len(train)]\n",
    "labels = labels\n",
    "nlp_test = data[len(train):]\n",
    "\n",
    "MAX_SEQUENCE_LENGTH = data.shape[1]"
   ]
  },
  {
   "cell_type": "code",
   "execution_count": null,
   "metadata": {
    "id": "gjG88BhF4eHj",
    "outputId": "4e87fece-e184-49b2-953f-24f74e2013fc"
   },
   "outputs": [
    {
     "data": {
      "text/plain": [
       "3019"
      ]
     },
     "execution_count": 86,
     "metadata": {
      "tags": []
     },
     "output_type": "execute_result"
    }
   ],
   "source": [
    "labels_glove = test[\"target\"]\n",
    "len(labels_glove)"
   ]
  },
  {
   "cell_type": "markdown",
   "metadata": {
    "id": "25nMmJGn4eHj"
   },
   "source": [
    "#### We have used Wikipedia GloVe embeddings"
   ]
  },
  {
   "cell_type": "code",
   "execution_count": null,
   "metadata": {
    "id": "_EKsqG354eHk",
    "outputId": "604e4a6a-5e27-4ed7-fcf7-5262c829eaea"
   },
   "outputs": [
    {
     "name": "stderr",
     "output_type": "stream",
     "text": [
      "400000it [00:26, 14909.48it/s]"
     ]
    },
    {
     "name": "stdout",
     "output_type": "stream",
     "text": [
      "Found 400000 word vectors in the GloVe library\n"
     ]
    },
    {
     "name": "stderr",
     "output_type": "stream",
     "text": [
      "\n"
     ]
    }
   ],
   "source": [
    "embeddings_index = {}\n",
    "with open('glove.6B.300d.txt','r') as f:\n",
    "    for line in tqdm(f):\n",
    "        values = line.split()\n",
    "        word = values[0]\n",
    "        coefs = np.asarray(values[1:], dtype='float32')\n",
    "        embeddings_index[word] = coefs\n",
    "f.close()\n",
    "\n",
    "print('Found %s word vectors in the GloVe library' % len(embeddings_index))"
   ]
  },
  {
   "cell_type": "code",
   "execution_count": null,
   "metadata": {
    "id": "6bNNpaMw4eHk",
    "outputId": "6fc41cc5-0cce-4d8d-ea9d-a3265ad961ef"
   },
   "outputs": [
    {
     "name": "stderr",
     "output_type": "stream",
     "text": [
      "100%|██████████| 12399/12399 [00:00<00:00, 400292.30it/s]"
     ]
    },
    {
     "name": "stdout",
     "output_type": "stream",
     "text": [
      "Our embedded matrix is of dimension (12400, 300)\n"
     ]
    },
    {
     "name": "stderr",
     "output_type": "stream",
     "text": [
      "\n"
     ]
    }
   ],
   "source": [
    "EMBEDDING_DIM = 300   \n",
    "#initializing embedding matrix with zeros\n",
    "embedding_matrix = np.zeros((len(word_index) + 1, EMBEDDING_DIM))\n",
    "\n",
    "#adding glove word encodings to library\n",
    "for word, i in tqdm(word_index.items()):\n",
    "    embedding_vector = embeddings_index.get(word)\n",
    "    if embedding_vector is not None:\n",
    "        \n",
    "        #words not found in embedding index will be all-zeros.\n",
    "        embedding_matrix[i] = embedding_vector\n",
    "        \n",
    "print(\"Our embedded matrix is of dimension\", embedding_matrix.shape)"
   ]
  },
  {
   "cell_type": "code",
   "execution_count": null,
   "metadata": {
    "id": "qgE5X2zY4eHl"
   },
   "outputs": [],
   "source": [
    "from keras.layers import Embedding, LSTM, Dense, SpatialDropout1D, Bidirectional, Dropout, Concatenate, LeakyReLU, GRU\n",
    "from keras import Input, Model, regularizers\n",
    "from keras.optimizers import Adam, SGD, RMSprop\n",
    "from keras.models import Sequential\n",
    "from keras.callbacks import EarlyStopping\n",
    "\n",
    "embedding = Embedding(len(word_index) + 1, EMBEDDING_DIM, weights = [embedding_matrix],\n",
    "                     input_length = MAX_SEQUENCE_LENGTH, trainable = False)  \n"
   ]
  },
  {
   "cell_type": "code",
   "execution_count": null,
   "metadata": {
    "id": "FgR2-DlE4eHl"
   },
   "outputs": [],
   "source": [
    "from sklearn.preprocessing import StandardScaler, MinMaxScaler, RobustScaler\n",
    "\n",
    "def scale(df, scaler):\n",
    "    return scaler.fit_transform(df.iloc[:, 0:1])\n",
    "\n",
    "meta_train = scale(train, StandardScaler())\n",
    "meta_test = scale(test, StandardScaler())"
   ]
  },
  {
   "cell_type": "markdown",
   "metadata": {
    "id": "rIityKFZ4eHm"
   },
   "source": [
    "#### We will now design a Long Short-Term Memory (LSTM) recurrent neural network to classify our tweets to see how it performs on the leaderboard"
   ]
  },
  {
   "cell_type": "code",
   "execution_count": null,
   "metadata": {
    "id": "sTTCxOeB4eHm"
   },
   "outputs": [],
   "source": [
    "#function to create lstm model\n",
    "def create_lstm(spatial_dropout, dropout, recurrent_dropout, learning_rate, bidirectional = False):\n",
    "    #define activation\n",
    "    activation = LeakyReLU(alpha = 0.01)\n",
    "    \n",
    "    #define inputs\n",
    "    nlp_input = Input(shape = (MAX_SEQUENCE_LENGTH,), name = 'nlp_input')\n",
    "    meta_input_train = Input(shape = (1, ), name = 'meta_train')\n",
    "    emb = embedding(nlp_input)\n",
    "    emb = SpatialDropout1D(dropout)(emb)\n",
    "\n",
    "    #add LSTM layer\n",
    "    if bidirectional:\n",
    "        nlp_out = (Bidirectional(LSTM(100, dropout = dropout, recurrent_dropout = recurrent_dropout,\n",
    "                                 kernel_initializer = 'orthogonal')))(emb)\n",
    "    else:\n",
    "        nlp_out = (LSTM(100, dropout = dropout, recurrent_dropout = recurrent_dropout,\n",
    "                                 kernel_initializer = 'orthogonal'))(emb)        \n",
    "     \n",
    "    #add meta data    \n",
    "    x = Concatenate()([nlp_out, meta_input_train])\n",
    "    \n",
    "    #add output layer\n",
    "    x = Dropout(dropout)(x)\n",
    "    preds = Dense(1, activation='sigmoid', kernel_regularizer = regularizers.l2(1e-4))(x)\n",
    "    \n",
    "    #compile model\n",
    "    model = Model(inputs=[nlp_input , meta_input_train], outputs = preds)\n",
    "    optimizer = Adam(learning_rate = learning_rate)\n",
    "    model.compile(loss = 'binary_crossentropy', optimizer = optimizer, \n",
    "                  metrics = (['accuracy'], tf.keras.metrics.Precision(), tf.keras.metrics.Recall()))\n",
    "    \n",
    "    return model\n",
    "\n",
    "\n",
    "#define training function to visualize learning curves\n",
    "def plot_learning_curves(history): \n",
    "    fig, ax = plt.subplots(1, 2, figsize = (20, 10))\n",
    "\n",
    "    ax[0].plot(history.history['accuracy'])\n",
    "    ax[0].plot(history.history['val_accuracy'])\n",
    "\n",
    "    ax[1].plot(history.history['loss'])\n",
    "    ax[1].plot(history.history['val_loss'])\n",
    "\n",
    "    ax[0].legend(['train', 'validation'], loc = 'upper left')\n",
    "    ax[1].legend(['train', 'validation'], loc = 'upper left')\n",
    "\n",
    "    fig.suptitle(\"Model Accuracy\", fontsize=14)\n",
    "\n",
    "    ax[0].set_ylabel('Accuracy')\n",
    "    ax[0].set_xlabel('Epoch')\n",
    "    ax[1].set_ylabel('Loss')\n",
    "    ax[1].set_xlabel('Epoch')\n",
    "\n",
    "    return plt.show()"
   ]
  },
  {
   "cell_type": "markdown",
   "metadata": {
    "id": "5dhc31ox4eHn"
   },
   "source": [
    "#### Model compilation "
   ]
  },
  {
   "cell_type": "code",
   "execution_count": null,
   "metadata": {
    "id": "M6UjfrCo4eHn",
    "outputId": "d692e4b1-ea6a-477a-c79a-2befa95d3faa",
    "scrolled": true
   },
   "outputs": [
    {
     "name": "stdout",
     "output_type": "stream",
     "text": [
      "Model: \"functional_1\"\n",
      "__________________________________________________________________________________________________\n",
      "Layer (type)                    Output Shape         Param #     Connected to                     \n",
      "==================================================================================================\n",
      "nlp_input (InputLayer)          [(None, 31)]         0                                            \n",
      "__________________________________________________________________________________________________\n",
      "embedding_1 (Embedding)         (None, 31, 300)      3720000     nlp_input[0][0]                  \n",
      "__________________________________________________________________________________________________\n",
      "spatial_dropout1d (SpatialDropo (None, 31, 300)      0           embedding_1[0][0]                \n",
      "__________________________________________________________________________________________________\n",
      "bidirectional_2 (Bidirectional) (None, 200)          320800      spatial_dropout1d[0][0]          \n",
      "__________________________________________________________________________________________________\n",
      "meta_train (InputLayer)         [(None, 1)]          0                                            \n",
      "__________________________________________________________________________________________________\n",
      "concatenate (Concatenate)       (None, 201)          0           bidirectional_2[0][0]            \n",
      "                                                                 meta_train[0][0]                 \n",
      "__________________________________________________________________________________________________\n",
      "dropout_2 (Dropout)             (None, 201)          0           concatenate[0][0]                \n",
      "__________________________________________________________________________________________________\n",
      "dense_1 (Dense)                 (None, 1)            202         dropout_2[0][0]                  \n",
      "==================================================================================================\n",
      "Total params: 4,041,002\n",
      "Trainable params: 321,002\n",
      "Non-trainable params: 3,720,000\n",
      "__________________________________________________________________________________________________\n"
     ]
    }
   ],
   "source": [
    "lstm = create_lstm(spatial_dropout = .2, dropout = .2, recurrent_dropout = .2,\n",
    "                     learning_rate = 2e-4, bidirectional = True)\n",
    "lstm.summary()"
   ]
  },
  {
   "cell_type": "code",
   "execution_count": null,
   "metadata": {
    "id": "-XfcRXtR4eHq",
    "outputId": "e62b0b3e-f58c-47f3-a247-bdd28ebf0cba",
    "scrolled": true
   },
   "outputs": [
    {
     "name": "stdout",
     "output_type": "stream",
     "text": [
      "Epoch 1/10\n",
      "99/99 [==============================] - 7s 74ms/step - loss: 0.4978 - accuracy: 0.7858 - precision_1: 0.7795 - recall_1: 0.8554 - val_loss: 0.2436 - val_accuracy: 0.9077 - val_precision_1: 0.9578 - val_recall_1: 0.8747\n",
      "Epoch 2/10\n",
      "99/99 [==============================] - 7s 67ms/step - loss: 0.2421 - accuracy: 0.9012 - precision_1: 0.9420 - recall_1: 0.8756 - val_loss: 0.2010 - val_accuracy: 0.9159 - val_precision_1: 0.9862 - val_recall_1: 0.8627\n",
      "Epoch 3/10\n",
      "99/99 [==============================] - 7s 73ms/step - loss: 0.1996 - accuracy: 0.9209 - precision_1: 0.9593 - recall_1: 0.8952 - val_loss: 0.1587 - val_accuracy: 0.9389 - val_precision_1: 0.9793 - val_recall_1: 0.9108\n",
      "Epoch 4/10\n",
      "99/99 [==============================] - 7s 71ms/step - loss: 0.1829 - accuracy: 0.9287 - precision_1: 0.9629 - recall_1: 0.9062 - val_loss: 0.1397 - val_accuracy: 0.9498 - val_precision_1: 0.9846 - val_recall_1: 0.9253\n",
      "Epoch 5/10\n",
      "99/99 [==============================] - 7s 73ms/step - loss: 0.1614 - accuracy: 0.9362 - precision_1: 0.9682 - recall_1: 0.9148 - val_loss: 0.1434 - val_accuracy: 0.9457 - val_precision_1: 0.9921 - val_recall_1: 0.9108\n",
      "Epoch 6/10\n",
      "99/99 [==============================] - 7s 74ms/step - loss: 0.1559 - accuracy: 0.9413 - precision_1: 0.9691 - recall_1: 0.9234 - val_loss: 0.1248 - val_accuracy: 0.9539 - val_precision_1: 0.9847 - val_recall_1: 0.9325\n",
      "Epoch 7/10\n",
      "99/99 [==============================] - 7s 69ms/step - loss: 0.1343 - accuracy: 0.9494 - precision_1: 0.9732 - recall_1: 0.9344 - val_loss: 0.1244 - val_accuracy: 0.9512 - val_precision_1: 0.9847 - val_recall_1: 0.9277\n",
      "Epoch 8/10\n",
      "99/99 [==============================] - 7s 70ms/step - loss: 0.1284 - accuracy: 0.9504 - precision_1: 0.9775 - recall_1: 0.9320 - val_loss: 0.1115 - val_accuracy: 0.9579 - val_precision_1: 0.9800 - val_recall_1: 0.9446\n",
      "Epoch 9/10\n",
      "99/99 [==============================] - 7s 70ms/step - loss: 0.1296 - accuracy: 0.9504 - precision_1: 0.9726 - recall_1: 0.9369 - val_loss: 0.1193 - val_accuracy: 0.9593 - val_precision_1: 0.9684 - val_recall_1: 0.9590\n",
      "Epoch 10/10\n",
      "99/99 [==============================] - 7s 73ms/step - loss: 0.1066 - accuracy: 0.9627 - precision_1: 0.9835 - recall_1: 0.9485 - val_loss: 0.1193 - val_accuracy: 0.9525 - val_precision_1: 0.9872 - val_recall_1: 0.9277\n"
     ]
    }
   ],
   "source": [
    "#fit model\n",
    "history1 = lstm.fit([nlp_train, meta_train], labels, validation_split = .2,\n",
    "                       epochs = 10, batch_size = 32, verbose = 1)"
   ]
  },
  {
   "cell_type": "markdown",
   "metadata": {
    "id": "qMXPUnAX4eHr"
   },
   "source": [
    "#### Model Accuracy Plots"
   ]
  },
  {
   "cell_type": "code",
   "execution_count": null,
   "metadata": {
    "id": "k60PgfF94eHs",
    "outputId": "2548b006-67cb-44b2-ee2a-5056b3c9f720",
    "scrolled": false
   },
   "outputs": [
    {
     "data": {
      "image/png": "[encoded data removed]",
      "text/plain": [
       "<Figure size 1440x720 with 2 Axes>"
      ]
     },
     "metadata": {
      "tags": []
     },
     "output_type": "display_data"
    }
   ],
   "source": [
    "plot_learning_curves(history1)"
   ]
  },
  {
   "cell_type": "markdown",
   "metadata": {
    "id": "YGuyRouG4eHu"
   },
   "source": [
    "#### Model Performance Metrics"
   ]
  },
  {
   "cell_type": "code",
   "execution_count": null,
   "metadata": {
    "id": "I0x1ugU-4eHu"
   },
   "outputs": [],
   "source": [
    "glove_pred = lstm.predict([nlp_test, meta_test])\n",
    "glove_pred = np.round(glove_pred.flatten())\n"
   ]
  },
  {
   "cell_type": "code",
   "execution_count": null,
   "metadata": {
    "id": "ptN5IvMB4eHv",
    "outputId": "ff5a302e-e5c0-4679-ec0b-c995e0049bc3"
   },
   "outputs": [
    {
     "name": "stdout",
     "output_type": "stream",
     "text": [
      "Accuracy of LSTM+Glove: 94.90%\n"
     ]
    }
   ],
   "source": [
    "accuracy = accuracy_score(labels_glove, glove_pred)\n",
    "print(\"Accuracy of LSTM+Glove: %.2f%%\" % (accuracy*100))"
   ]
  },
  {
   "cell_type": "code",
   "execution_count": null,
   "metadata": {
    "id": "isbKPwm34eHv",
    "outputId": "1493aea0-87ea-4051-9c37-c6120bf3379a"
   },
   "outputs": [
    {
     "name": "stdout",
     "output_type": "stream",
     "text": [
      "              precision    recall  f1-score   support\n",
      "\n",
      "         0.0       0.97      0.92      0.95      1459\n",
      "         1.0       0.93      0.97      0.95      1560\n",
      "\n",
      "    accuracy                           0.95      3019\n",
      "   macro avg       0.95      0.95      0.95      3019\n",
      "weighted avg       0.95      0.95      0.95      3019\n",
      "\n"
     ]
    }
   ],
   "source": [
    "print(classification_report(glove_pred,labels_glove))"
   ]
  },
  {
   "cell_type": "markdown",
   "metadata": {
    "id": "n58eXyDB4eHv"
   },
   "source": [
    "#### Confusion Matrix"
   ]
  },
  {
   "cell_type": "code",
   "execution_count": null,
   "metadata": {
    "id": "96mfSDsY4eHw"
   },
   "outputs": [],
   "source": [
    "# Confusion Matrix\n",
    "def plot_cm(y_true, y_pred, title, figsize=(5,5)):\n",
    "    cm = confusion_matrix(y_true, y_pred, labels=np.unique(y_true)[::-1])\n",
    "    cm_sum = np.sum(cm, axis=1, keepdims=True)\n",
    "    cm_perc = cm / cm_sum.astype(float) * 100\n",
    "    annot = np.empty_like(cm).astype(str)\n",
    "    nrows, ncols = cm.shape\n",
    "    for i in range(nrows):\n",
    "        for j in range(ncols):\n",
    "            c = cm[i, j]\n",
    "            p = cm_perc[i, j]\n",
    "            if i == j:\n",
    "                s = cm_sum[i]\n",
    "                annot[i, j] = '%.1f%%\\n%d/%d' % (p, c, s)\n",
    "            elif c == 0:\n",
    "                annot[i, j] = ''\n",
    "            else:\n",
    "                annot[i, j] = '%.1f%%\\n%d' % (p, c)\n",
    "    cm = pd.DataFrame(cm, index=np.unique(y_true)[::-1], columns=np.unique(y_true)[::-1])\n",
    "    cm.index.name = 'Actual'\n",
    "    cm.columns.name = 'Predicted'\n",
    "    fig, ax = plt.subplots(figsize=figsize)\n",
    "    plt.title(title)\n",
    "    sns.heatmap(cm, cmap= \"mako\", annot=annot, fmt='', ax=ax)"
   ]
  },
  {
   "cell_type": "code",
   "execution_count": null,
   "metadata": {
    "id": "kzBbCCI64eHw",
    "outputId": "0beb56d2-c5c3-4891-a01a-64a6258f8b61",
    "scrolled": false
   },
   "outputs": [
    {
     "data": {
      "image/png": "[encoded data removed]",
      "text/plain": [
       "<Figure size 504x504 with 2 Axes>"
      ]
     },
     "metadata": {
      "tags": []
     },
     "output_type": "display_data"
    }
   ],
   "source": [
    "#Confusion Matrix for LSTM+GloVe model\n",
    "plot_cm(glove_pred, labels_glove, 'Confusion matrix for LSTM+GloVe model', figsize=(7,7))"
   ]
  },
  {
   "cell_type": "code",
   "execution_count": null,
   "metadata": {
    "id": "4yuvkXNd4eHw",
    "outputId": "6118d235-f754-431f-fe50-7b6307ca4765",
    "scrolled": true
   },
   "outputs": [
    {
     "data": {
      "text/html": [
       "<div>\n",
       "<style scoped>\n",
       "    .dataframe tbody tr th:only-of-type {\n",
       "        vertical-align: middle;\n",
       "    }\n",
       "\n",
       "    .dataframe tbody tr th {\n",
       "        vertical-align: top;\n",
       "    }\n",
       "\n",
       "    .dataframe thead th {\n",
       "        text-align: right;\n",
       "    }\n",
       "</style>\n",
       "<table border=\"1\" class=\"dataframe\">\n",
       "  <thead>\n",
       "    <tr style=\"text-align: right;\">\n",
       "      <th></th>\n",
       "      <th>id</th>\n",
       "      <th>prob</th>\n",
       "      <th>target</th>\n",
       "    </tr>\n",
       "  </thead>\n",
       "  <tbody>\n",
       "    <tr>\n",
       "      <th>0</th>\n",
       "      <td>3842</td>\n",
       "      <td>0.999856</td>\n",
       "      <td>1</td>\n",
       "    </tr>\n",
       "    <tr>\n",
       "      <th>1</th>\n",
       "      <td>7408</td>\n",
       "      <td>0.005140</td>\n",
       "      <td>0</td>\n",
       "    </tr>\n",
       "    <tr>\n",
       "      <th>2</th>\n",
       "      <td>1944</td>\n",
       "      <td>0.998933</td>\n",
       "      <td>1</td>\n",
       "    </tr>\n",
       "    <tr>\n",
       "      <th>3</th>\n",
       "      <td>3194</td>\n",
       "      <td>0.014654</td>\n",
       "      <td>0</td>\n",
       "    </tr>\n",
       "    <tr>\n",
       "      <th>4</th>\n",
       "      <td>5712</td>\n",
       "      <td>0.999967</td>\n",
       "      <td>1</td>\n",
       "    </tr>\n",
       "  </tbody>\n",
       "</table>\n",
       "</div>"
      ],
      "text/plain": [
       "     id      prob  target\n",
       "0  3842  0.999856       1\n",
       "1  7408  0.005140       0\n",
       "2  1944  0.998933       1\n",
       "3  3194  0.014654       0\n",
       "4  5712  0.999967       1"
      ]
     },
     "execution_count": 103,
     "metadata": {
      "tags": []
     },
     "output_type": "execute_result"
    }
   ],
   "source": [
    "#create dataframe for lstm model with Glove embedding for predictions\n",
    "submission_lstm = pd.DataFrame()\n",
    "submission_lstm['id'] = test_id\n",
    "submission_lstm['prob'] = lstm.predict([nlp_test, meta_test])\n",
    "submission_lstm['target'] = submission_lstm['prob'].apply(lambda x: 0 if x < .5 else 1)\n",
    "submission_lstm.head(5)"
   ]
  },
  {
   "cell_type": "markdown",
   "metadata": {
    "id": "20pqwg-t4eHx"
   },
   "source": [
    "#### Predictions"
   ]
  },
  {
   "cell_type": "code",
   "execution_count": null,
   "metadata": {
    "id": "4k_hT_X74eHx",
    "outputId": "fea49263-c5b2-4617-a099-056a8bbb051f"
   },
   "outputs": [
    {
     "name": "stdout",
     "output_type": "stream",
     "text": [
      "Tweet to predict :  ontd this is   best post ever unf jaredleto\n",
      "The Category found is : [1] Depressive tweet\n",
      "Tweet to predict :  faibw   nightrats chiffon daydream you wont be able to stop following\n",
      "The Category found is : [0] Not a Depressive tweet\n",
      "Tweet to predict :  \n",
      "The Category found is : [1] Depressive tweet\n",
      "Tweet to predict :  bgt aww i like susan boyles cat\n",
      "The Category found is : [0] Not a Depressive tweet\n",
      "Tweet to predict :  new follower thx u ye day weekend started friday last day nothing  mputer\n",
      "The Category found is : [1] Depressive tweet\n",
      "Tweet to predict :  rottenindenmark one thing study notes growing depression new deal actually pushed greatest gener\n",
      "The Category found is : [1] Depressive tweet\n",
      "Tweet to predict :  swagforjam natuloy din kakatapos lang kaya makirot pa i chose logos btsb first tatt  z group motivated\n",
      "The Category found is : [0] Not a Depressive tweet\n",
      "Tweet to predict :  weekinpictures headed into   office for ano r seo amp analytics day not been this early\n",
      "The Category found is : [0] Not a Depressive tweet\n",
      "Tweet to predict :  i think i did good in   math test i need to wr e words\n",
      "The Category found is : [0] Not a Depressive tweet\n",
      "Tweet to predict :  at   nursery   wailing have just ended all sleeping soundly working morning shift tmrw grr\n",
      "The Category found is : [1] Depressive tweet\n"
     ]
    }
   ],
   "source": [
    "for i,j in zip(train.text.values[:10], submission_lstm['target'][:10]):\n",
    "    print(\"Tweet to predict : \",i)\n",
    "    print(\"The Category found is :\", \"[1] Depressive tweet\" if j==1 else \"[0] Not a Depressive tweet\")\n",
    "    \n",
    "    "
   ]
  },
  {
   "cell_type": "markdown",
   "metadata": {
    "id": "Btyqs70e4eHy"
   },
   "source": [
    "##### Thank you!"
   ]
  }
 ],
 "metadata": {
  "colab": {
   "collapsed_sections": [
    "EVuvaiwQ4eGe",
    "l9beT4D44eGs",
    "5nE-35H04eGv",
    "iWgtSxp24eGx",
    "l5PUtk_u4eG4",
    "s3-kW9-u4eG8",
    "xDgi3reK4eG_",
    "INsJrgem4eHA",
    "zOvtzKck4eHA",
    "Tat3PeZg4eHC",
    "CarnM2ZJ4eHM",
    "kpPAKwSW4eHP",
    "QOobibAg4eHR",
    "NE-2XF694eHS",
    "2o5ebXWf4eHT",
    "DpxKS6tX4eHf",
    "DlvC-8Bq4eHf",
    "CZQ_Ofut4eHg",
    "b36UsBks4eHg",
    "EaZGZlKz4eHh",
    "0mX_D_MC4eHi",
    "I-kdRdWy4eHj",
    "25nMmJGn4eHj",
    "rIityKFZ4eHm",
    "qMXPUnAX4eHr",
    "YGuyRouG4eHu",
    "n58eXyDB4eHv",
    "20pqwg-t4eHx"
   ],
   "name": "BAN_693_CapstoneProject_DepressionDetectionInTweets.ipynb",
   "provenance": []
  },
  "kernelspec": {
   "display_name": "Python 3",
   "language": "python",
   "name": "python3"
  },
  "language_info": {
   "codemirror_mode": {
    "name": "ipython",
    "version": 3
   },
   "file_extension": ".py",
   "mimetype": "text/x-python",
   "name": "python",
   "nbconvert_exporter": "python",
   "pygments_lexer": "ipython3",
   "version": "3.7.6"
  }
 },
 "nbformat": 4,
 "nbformat_minor": 1
}
