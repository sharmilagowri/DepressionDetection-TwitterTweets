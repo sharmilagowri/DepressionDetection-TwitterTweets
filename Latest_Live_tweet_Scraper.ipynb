{
 "cells": [
  {
   "cell_type": "code",
   "execution_count": 1,
   "metadata": {},
   "outputs": [],
   "source": [
    "import nltk.classify.util\n",
    "from nltk.corpus import stopwords\n",
    "import string\n",
    "import json\n",
    "import re\n",
    "from tweepy import Stream\n",
    "from tweepy import OAuthHandler\n",
    "from tweepy.streaming import StreamListener\n",
    "import sentiment_analyser as s\n",
    "import sys\n",
    "from nltk.corpus import stopwords\n",
    "from  nltk.stem import SnowballStemmer\n",
    "import pandas as pd\n",
    "import time, sys\n",
    "import csv\n",
    "\n",
    "record = []"
   ]
  },
  {
   "cell_type": "markdown",
   "metadata": {},
   "source": [
    "### Emojis detection"
   ]
  },
  {
   "cell_type": "code",
   "execution_count": 2,
   "metadata": {},
   "outputs": [],
   "source": [
    "\n",
    "emoticons_str = r\"\"\"\n",
    "    (?:\n",
    "        [:=;] # Eyes\n",
    "        [oO\\-]? # Nose (optional)\n",
    "        \n",
    "        [D\\)\\]\\(\\]/\\\\OpP] # Mouth\n",
    "    )\"\"\""
   ]
  },
  {
   "cell_type": "markdown",
   "metadata": {},
   "source": [
    "### Regular expression for data cleaning"
   ]
  },
  {
   "cell_type": "code",
   "execution_count": 3,
   "metadata": {},
   "outputs": [],
   "source": [
    "\n",
    "regex_str = [\n",
    "    emoticons_str,\n",
    "    r'<[^>]+>', # HTML tags\n",
    "    r'(?:@[\\w_]+)', # @-mentions\n",
    "    r\"(?:\\#+[\\w_]+[\\w\\'_\\-]*[\\w_]+)\", # hash-tags\n",
    "    r'http[s]?://(?:[a-z]|[0-9]|[$-_@.&amp;+]|[!*\\(\\),]|(?:%[0-9a-f][0-9a-f]))+', # URLs\n",
    " \n",
    "    r'(?:(?:\\d+,?)+(?:\\.?\\d+)?)', # numbers\n",
    "    r\"(?:[a-z][a-z'\\-_]+[a-z])\", # words with - and '\n",
    "    r'(?:[\\w_]+)', \n",
    "    r'(?:\\S)'\n",
    "]"
   ]
  },
  {
   "cell_type": "code",
   "execution_count": 4,
   "metadata": {},
   "outputs": [],
   "source": [
    "tokens_re = re.compile(r'('+'|'.join(regex_str)+')', re.VERBOSE | re.IGNORECASE)\n",
    "emoticon_re = re.compile(r'^'+emoticons_str+'$', re.VERBOSE | re.IGNORECASE)"
   ]
  },
  {
   "cell_type": "markdown",
   "metadata": {},
   "source": [
    "### Word tokenization"
   ]
  },
  {
   "cell_type": "code",
   "execution_count": 5,
   "metadata": {},
   "outputs": [],
   "source": [
    "def tokenize(s):\n",
    "    return tokens_re.findall(s)\n",
    " \n",
    "def preprocess(s, lowercase=False):\n",
    "    tokens = tokenize(s)\n",
    "    if lowercase:\n",
    "        tokens = [token if emoticon_re.search(token) else token.lower() for token in tokens]\n",
    "    return tokens"
   ]
  },
  {
   "cell_type": "markdown",
   "metadata": {},
   "source": [
    "### Converting tweets to Dataframe"
   ]
  },
  {
   "cell_type": "code",
   "execution_count": 6,
   "metadata": {},
   "outputs": [],
   "source": [
    "df = pd.DataFrame()\n",
    "cols = [\"Tweet\", \"Time\", \"User_Location\", \"Sentiment\", \"Retweets\"]"
   ]
  },
  {
   "cell_type": "markdown",
   "metadata": {},
   "source": [
    "### Live streaming of Depressive Tweets"
   ]
  },
  {
   "cell_type": "code",
   "execution_count": 7,
   "metadata": {},
   "outputs": [],
   "source": [
    "class listener(StreamListener):\n",
    "    \n",
    "    def __init__(self, time_limit=20):\n",
    "        self.start_time = time.time()\n",
    "        self.limit = time_limit\n",
    "        self.saveFile = open('abcd.json', 'a')\n",
    "        super(StreamListener, self).__init__()\n",
    "        \n",
    "    def on_data(self, data):        \n",
    "        if (time.time() - self.start_time) < self.limit:\n",
    "            try:\n",
    "                all_data = json.loads(data)\n",
    "                all_tweets = all_data[\"text\"]\n",
    "                user_location = all_data[\"user\"][\"location\"] \n",
    "                created_at    = all_data[\"created_at\"]\n",
    "                retweeted     = all_data[\"retweeted\"]\n",
    "                \n",
    "                analysis  = TextBlob(all_tweets)\n",
    "                tweet_polarity = analysis.sentiment.polarity\n",
    "                \n",
    "                sentiment = 0\n",
    "                if(tweet_polarity>0):\n",
    "                    sentiment = 1\n",
    "                else:\n",
    "                    sentiment = 0\n",
    "\n",
    "                all_tweets = preprocess(all_tweets)\n",
    "\n",
    "                punctuation = list(string.punctuation)\n",
    "                stop_words = set(stopwords.words('english') + punctuation + ['RT'])\n",
    "                tweet = [tweets for tweets in all_tweets if tweets not in stop_words]                \n",
    "\n",
    "                tweet = ' '.join(str(e) for e in tweet)\n",
    "\n",
    "                sentiment_value, confidence = s.sentiment(tweet)\n",
    "\n",
    "                print(tweet, user_location, created_at, sentiment_value, retweeted, confidence)\n",
    "                if len(tweet)>3:\n",
    "                    record.append([tweet, created_at, user_location, sentiment_value, retweeted])                \n",
    "\n",
    "                if confidence*100 >= 80:\n",
    "                    output = open(\"twitter-out.txt\",\"a\")\n",
    "                    output.write(tweet)\n",
    "                    output.write(\"\\t\")\n",
    "                    output.write(sentiment_value)\n",
    "                    output.write('\\n')\n",
    "                    output.close()\n",
    "\n",
    "                return True        \n",
    "            \n",
    "            except BaseException as e:                \n",
    "                return True\n",
    "            return False\n",
    "        else:\n",
    "            print(\"STOPPED!!!!!!!!!!!!!!!!!!!!!!\")\n",
    "            return False\n",
    "\n",
    "    def on_error(self, status):\n",
    "        print(status)"
   ]
  },
  {
   "cell_type": "markdown",
   "metadata": {},
   "source": [
    "### Tag to scrape Depressive tweets"
   ]
  },
  {
   "cell_type": "code",
   "execution_count": 8,
   "metadata": {},
   "outputs": [
    {
     "name": "stdout",
     "output_type": "stream",
     "text": [
      "Enter the tag you want sentiment review of:depression\n"
     ]
    }
   ],
   "source": [
    "tags = input('Enter the tag you want sentiment review of:')"
   ]
  },
  {
   "cell_type": "markdown",
   "metadata": {},
   "source": [
    "### Connecting to the Twitter API"
   ]
  },
  {
   "cell_type": "code",
   "execution_count": 9,
   "metadata": {},
   "outputs": [],
   "source": [
    "ckey=\"BGvTRmO9b9ZySs8hY8n0WjcXy\"\n",
    "csecret=\"Ki3lHvwLZZrG5zZFU7RtknhDlJgi5zDt0eVDNiPWHc3PJmdLj9\"\n",
    "atoken=\"1382391655223873539-2lvJk0qm5gxcBQyppOB9bp7DpSDsPK\"\n",
    "asecret=\"LjvoNphGxPGNOsnWR34hJO3YUtweZ7VjBabAPujhtDdSv\""
   ]
  },
  {
   "cell_type": "code",
   "execution_count": 10,
   "metadata": {},
   "outputs": [],
   "source": [
    "auth = OAuthHandler(ckey, csecret)\n",
    "auth.set_access_token(atoken, asecret)"
   ]
  },
  {
   "cell_type": "code",
   "execution_count": 11,
   "metadata": {},
   "outputs": [
    {
     "name": "stdout",
     "output_type": "stream",
     "text": [
      "STOPPED!!!!!!!!!!!!!!!!!!!!!!\n"
     ]
    }
   ],
   "source": [
    "twitterStream = Stream(auth, listener())\n",
    "twitterStream.filter(track=[tags], languages=[\"en\"])"
   ]
  },
  {
   "cell_type": "markdown",
   "metadata": {},
   "source": [
    "### Storing tweets in a CSV file "
   ]
  },
  {
   "cell_type": "code",
   "execution_count": 12,
   "metadata": {},
   "outputs": [
    {
     "data": {
      "text/html": [
       "<div>\n",
       "<style scoped>\n",
       "    .dataframe tbody tr th:only-of-type {\n",
       "        vertical-align: middle;\n",
       "    }\n",
       "\n",
       "    .dataframe tbody tr th {\n",
       "        vertical-align: top;\n",
       "    }\n",
       "\n",
       "    .dataframe thead th {\n",
       "        text-align: right;\n",
       "    }\n",
       "</style>\n",
       "<table border=\"1\" class=\"dataframe\">\n",
       "  <thead>\n",
       "    <tr style=\"text-align: right;\">\n",
       "      <th></th>\n",
       "      <th>Tweet</th>\n",
       "      <th>Time</th>\n",
       "      <th>User_Location</th>\n",
       "      <th>Sentiment</th>\n",
       "      <th>Retweets</th>\n",
       "    </tr>\n",
       "  </thead>\n",
       "  <tbody>\n",
       "  </tbody>\n",
       "</table>\n",
       "</div>"
      ],
      "text/plain": [
       "Empty DataFrame\n",
       "Columns: [Tweet, Time, User_Location, Sentiment, Retweets]\n",
       "Index: []"
      ]
     },
     "execution_count": 12,
     "metadata": {},
     "output_type": "execute_result"
    }
   ],
   "source": [
    "df = pd.DataFrame(record, columns=cols)\n",
    "df.to_csv('tweetss.csv', sep=',', index=False)\n",
    "df.head()"
   ]
  },
  {
   "cell_type": "markdown",
   "metadata": {},
   "source": [
    "Code scrapes data dynamically from the Twitter API page"
   ]
  }
 ],
 "metadata": {
  "kernelspec": {
   "display_name": "Python 3",
   "language": "python",
   "name": "python3"
  },
  "language_info": {
   "codemirror_mode": {
    "name": "ipython",
    "version": 3
   },
   "file_extension": ".py",
   "mimetype": "text/x-python",
   "name": "python",
   "nbconvert_exporter": "python",
   "pygments_lexer": "ipython3",
   "version": "3.7.6"
  }
 },
 "nbformat": 4,
 "nbformat_minor": 4
}
